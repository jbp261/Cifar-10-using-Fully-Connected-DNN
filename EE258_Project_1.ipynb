{
  "nbformat": 4,
  "nbformat_minor": 0,
  "metadata": {
    "colab": {
      "name": "EE258_Project_1",
      "version": "0.3.2",
      "provenance": [],
      "collapsed_sections": [],
      "include_colab_link": true
    },
    "kernelspec": {
      "name": "python2",
      "display_name": "Python 2"
    },
    "accelerator": "GPU"
  },
  "cells": [
    {
      "cell_type": "markdown",
      "metadata": {
        "id": "view-in-github",
        "colab_type": "text"
      },
      "source": [
        "<a href=\"https://colab.research.google.com/github/jbp261/Cifar-10-using-Fully-Connected-DNN/blob/master/EE258_Project_1.ipynb\" target=\"_parent\"><img src=\"https://colab.research.google.com/assets/colab-badge.svg\" alt=\"Open In Colab\"/></a>"
      ]
    },
    {
      "metadata": {
        "colab_type": "text",
        "id": "BlmQIFSLZDdc"
      },
      "cell_type": "markdown",
      "source": [
        "# Confirm TensorFlow can see the GPU\n",
        "\n",
        "Simply select \"GPU\" in the Accelerator drop-down in Notebook Settings (either through the Edit menu or the command palette at cmd/ctrl-shift-P)."
      ]
    },
    {
      "metadata": {
        "colab_type": "code",
        "id": "3IEVK-KFxi5Z",
        "outputId": "96cb7040-19c3-4b82-9dee-67e3dd540b4c",
        "colab": {
          "base_uri": "https://localhost:8080/",
          "height": 34
        }
      },
      "cell_type": "code",
      "source": [
        "import tensorflow as tf\n",
        "device_name = tf.test.gpu_device_name()\n",
        "if device_name != '/device:GPU:0':\n",
        "    raise SystemError('GPU device not found')\n",
        "print('Found GPU at: {}'.format(device_name))"
      ],
      "execution_count": 1,
      "outputs": [
        {
          "output_type": "stream",
          "text": [
            "Found GPU at: /device:GPU:0\n"
          ],
          "name": "stdout"
        }
      ]
    },
    {
      "metadata": {
        "colab_type": "text",
        "id": "QXRh0DPiZRyG"
      },
      "cell_type": "markdown",
      "source": [
        "# Observe TensorFlow speedup on GPU relative to CPU\n",
        "\n",
        "This example constructs a typical convolutional neural network layer over a\n",
        "random image and manually places the resulting ops on either the CPU or the GPU\n",
        "to compare execution speed."
      ]
    },
    {
      "metadata": {
        "colab_type": "code",
        "id": "t9ALbbpmY9rm",
        "outputId": "908ac64d-6902-4556-d5e2-d6b7b135c05b",
        "colab": {
          "base_uri": "https://localhost:8080/",
          "height": 259
        }
      },
      "cell_type": "code",
      "source": [
        "import tensorflow as tf\n",
        "import timeit\n",
        "\n",
        "# See https://www.tensorflow.org/tutorials/using_gpu#allowing_gpu_memory_growth\n",
        "config = tf.ConfigProto()\n",
        "config.gpu_options.allow_growth = True\n",
        "\n",
        "with tf.device('/cpu:0'):\n",
        "  random_image_cpu = tf.random_normal((100, 100, 100, 3))\n",
        "  net_cpu = tf.layers.conv2d(random_image_cpu, 32, 7)\n",
        "  net_cpu = tf.reduce_sum(net_cpu)\n",
        "\n",
        "with tf.device('/gpu:0'):\n",
        "  random_image_gpu = tf.random_normal((100, 100, 100, 3))\n",
        "  net_gpu = tf.layers.conv2d(random_image_gpu, 32, 7)\n",
        "  net_gpu = tf.reduce_sum(net_gpu)\n",
        "\n",
        "sess = tf.Session(config=config)\n",
        "\n",
        "# Test execution once to detect errors early.\n",
        "try:\n",
        "  sess.run(tf.global_variables_initializer())\n",
        "except tf.errors.InvalidArgumentError:\n",
        "  print(\n",
        "      '\\n\\nThis error most likely means that this notebook is not '\n",
        "      'configured to use a GPU.  Change this in Notebook Settings via the '\n",
        "      'command palette (cmd/ctrl-shift-P) or the Edit menu.\\n\\n')\n",
        "  raise\n",
        "\n",
        "def cpu():\n",
        "  sess.run(net_cpu)\n",
        "  \n",
        "def gpu():\n",
        "  sess.run(net_gpu)\n",
        "  \n",
        "# Runs the op several times.\n",
        "print('Time (s) to convolve 32x7x7x3 filter over random 100x100x100x3 images '\n",
        "      '(batch x height x width x channel). Sum of ten runs.')\n",
        "print('CPU (s):')\n",
        "cpu_time = timeit.timeit('cpu()', number=10, setup=\"from __main__ import cpu\")\n",
        "print(cpu_time)\n",
        "print('GPU (s):')\n",
        "gpu_time = timeit.timeit('gpu()', number=10, setup=\"from __main__ import gpu\")\n",
        "print(gpu_time)\n",
        "print('GPU speedup over CPU: {}x'.format(int(cpu_time/gpu_time)))\n",
        "\n",
        "sess.close()"
      ],
      "execution_count": 2,
      "outputs": [
        {
          "output_type": "stream",
          "text": [
            "Time (s) to convolve 32x7x7x3 filter over random 100x100x100x3 images (batch x height x width x channel). Sum of ten runs.\n",
            "CPU (s):\n",
            "10.6408560276\n",
            "GPU (s):\n",
            "1.85254716873\n",
            "GPU speedup over CPU: 5x\n"
          ],
          "name": "stdout"
        }
      ]
    },
    {
      "metadata": {
        "id": "CwNGOfebXem3",
        "colab_type": "text"
      },
      "cell_type": "markdown",
      "source": [
        "# **Loading of the libraries**"
      ]
    },
    {
      "metadata": {
        "id": "PiPqZ7oWELwI",
        "colab_type": "code",
        "outputId": "a88036df-b353-4737-bb25-7eb1ab0ce614",
        "colab": {
          "base_uri": "https://localhost:8080/",
          "height": 51
        }
      },
      "cell_type": "code",
      "source": [
        "import numpy as np\n",
        "import pandas as pd\n",
        "import matplotlib.pyplot as plt\n",
        "%matplotlib inline\n",
        "# Loading the CIFAR-10 dataset\n",
        "from keras.datasets import cifar10\n",
        "from tensorflow import keras\n",
        "from datetime import datetime\n",
        "\n",
        "from sklearn import metrics\n",
        "from sklearn.metrics import accuracy_score \n",
        "from sklearn.metrics import classification_report\n",
        "from sklearn.metrics import confusion_matrix\n",
        "from sklearn.model_selection import train_test_split\n",
        "from sklearn.model_selection import cross_val_score\n",
        "from sklearn.model_selection import cross_val_predict\n",
        "from sklearn.model_selection import GridSearchCV, RandomizedSearchCV\n",
        "print(tf.__version__)"
      ],
      "execution_count": 3,
      "outputs": [
        {
          "output_type": "stream",
          "text": [
            "1.12.0-rc2\n"
          ],
          "name": "stdout"
        },
        {
          "output_type": "stream",
          "text": [
            "Using TensorFlow backend.\n"
          ],
          "name": "stderr"
        }
      ]
    },
    {
      "metadata": {
        "id": "B6piFQZsXtng",
        "colab_type": "text"
      },
      "cell_type": "markdown",
      "source": [
        "# **Data Loading**"
      ]
    },
    {
      "metadata": {
        "id": "6KeSF4h9zR3v",
        "colab_type": "code",
        "colab": {
          "base_uri": "https://localhost:8080/",
          "height": 68
        },
        "outputId": "e0c23b0c-b522-49a6-a7a6-de3a3bbaab8a"
      },
      "cell_type": "code",
      "source": [
        "#Train test saperation of the dataset\n",
        "(x_train_unshuffled, y_train_unshuffled), (X_test, y_test) = cifar10.load_data()"
      ],
      "execution_count": 4,
      "outputs": [
        {
          "output_type": "stream",
          "text": [
            "Downloading data from https://www.cs.toronto.edu/~kriz/cifar-10-python.tar.gz\n",
            "170500096/170498071 [==============================] - 66s 0us/step\n",
            "170508288/170498071 [==============================] - 66s 0us/step\n"
          ],
          "name": "stdout"
        }
      ]
    },
    {
      "metadata": {
        "id": "3y5LyMguXy44",
        "colab_type": "text"
      },
      "cell_type": "markdown",
      "source": [
        "# **Data Visualization**"
      ]
    },
    {
      "metadata": {
        "id": "3xmXLet6M_3H",
        "colab_type": "code",
        "outputId": "309f83ba-9711-45dd-9ed1-6fb887f678e3",
        "colab": {
          "base_uri": "https://localhost:8080/",
          "height": 307
        }
      },
      "cell_type": "code",
      "source": [
        "num_classes = 10 # total number of classes\n",
        "class_names = ['airplane', 'automobile', 'bird', 'cat', 'deer', 'dog', 'frog', \n",
        "               'horse', 'ship', 'truck'] # the class names in order\n",
        "\n",
        "#Visualization of images from each class randomly\n",
        "fig = plt.figure(figsize=(10,5))\n",
        "for i in range(num_classes):\n",
        "    ax = fig.add_subplot(2, 5, 1 + i)\n",
        "    idx = np.where(y_train_unshuffled[:]==i)[0]\n",
        "    features_idx = x_train_unshuffled[idx,::]\n",
        "    img_num = np.random.randint(features_idx.shape[0])\n",
        "    image = features_idx[img_num,::]\n",
        "    ax.set_title(class_names[i])\n",
        "    plt.imshow(image)\n",
        "    plt.grid(False)\n",
        "plt.show()"
      ],
      "execution_count": 5,
      "outputs": [
        {
          "output_type": "display_data",
          "data": {
            "image/png": "[encoded data removed]",
            "text/plain": [
              "<matplotlib.figure.Figure at 0x7fc6cc60cad0>"
            ]
          },
          "metadata": {
            "tags": []
          }
        }
      ]
    },
    {
      "metadata": {
        "id": "atiMSGYlWz4M",
        "colab_type": "code",
        "colab": {
          "base_uri": "https://localhost:8080/",
          "height": 266
        },
        "outputId": "4959dd34-e211-42dd-c4ae-02c7f902cc18"
      },
      "cell_type": "code",
      "source": [
        "#Visualization of a single image from training data\n",
        "plt.figure()\n",
        "plt.imshow(x_train_unshuffled[0])\n",
        "plt.colorbar()\n",
        "plt.grid(False)"
      ],
      "execution_count": 6,
      "outputs": [
        {
          "output_type": "display_data",
          "data": {
            "image/png": "[encoded data removed]",
            "text/plain": [
              "<matplotlib.figure.Figure at 0x7fc721ce0f10>"
            ]
          },
          "metadata": {
            "tags": []
          }
        }
      ]
    },
    {
      "metadata": {
        "id": "RpTOkKaEYgZl",
        "colab_type": "text"
      },
      "cell_type": "markdown",
      "source": [
        "# **Exploring Train and Test Data**"
      ]
    },
    {
      "metadata": {
        "id": "8X8mHZhXYxhh",
        "colab_type": "text"
      },
      "cell_type": "markdown",
      "source": [
        "**Knowing the training data types, dimensions and  distribution**"
      ]
    },
    {
      "metadata": {
        "id": "mGTtkEY5QEyZ",
        "colab_type": "code",
        "outputId": "7920f699-5c2d-4380-bac0-b205dbc88053",
        "colab": {
          "base_uri": "https://localhost:8080/",
          "height": 51
        }
      },
      "cell_type": "code",
      "source": [
        "# Shape of the training and testing data\n",
        "print('X_train_unshuffled', type(x_train_unshuffled), x_train_unshuffled.shape)\n",
        "print('X_test', type(X_test), X_test.shape)"
      ],
      "execution_count": 7,
      "outputs": [
        {
          "output_type": "stream",
          "text": [
            "('X_train_unshuffled', <type 'numpy.ndarray'>, (50000, 32, 32, 3))\n",
            "('X_test', <type 'numpy.ndarray'>, (10000, 32, 32, 3))\n"
          ],
          "name": "stdout"
        }
      ]
    },
    {
      "metadata": {
        "id": "u0mjAtyjZHWB",
        "colab_type": "code",
        "colab": {
          "base_uri": "https://localhost:8080/",
          "height": 51
        },
        "outputId": "c1d6f359-4bc7-49ae-f64d-e19a5ba86fb3"
      },
      "cell_type": "code",
      "source": [
        "# Datatypes of the training and testing data\n",
        "print('X_train_unshuffled element type', type(x_train_unshuffled[1,1,1,1]))\n",
        "print('X_test element type', type(X_test[1,1,1,1]))"
      ],
      "execution_count": 8,
      "outputs": [
        {
          "output_type": "stream",
          "text": [
            "('X_train_unshuffled element type', <type 'numpy.uint8'>)\n",
            "('X_test element type', <type 'numpy.uint8'>)\n"
          ],
          "name": "stdout"
        }
      ]
    },
    {
      "metadata": {
        "id": "G-DvIs9Zc9Rm",
        "colab_type": "code",
        "colab": {
          "base_uri": "https://localhost:8080/",
          "height": 51
        },
        "outputId": "101bb871-fc55-43de-aa7d-398a32c144c9"
      },
      "cell_type": "code",
      "source": [
        "#Updating the datatype from uint8 to float32 for training and testing data\n",
        "x_train_unshuffled = x_train_unshuffled.astype(np.float32)\n",
        "X_test = X_test.astype(np.float32)\n",
        "print('X_train_unshuffled element type', type(x_train_unshuffled[1,1,1,1]))\n",
        "print('X_test element type', type(X_test[1,1,1,1]))"
      ],
      "execution_count": 9,
      "outputs": [
        {
          "output_type": "stream",
          "text": [
            "('X_train_unshuffled element type', <type 'numpy.float32'>)\n",
            "('X_test element type', <type 'numpy.float32'>)\n"
          ],
          "name": "stdout"
        }
      ]
    },
    {
      "metadata": {
        "id": "1_42JHpWToPE",
        "colab_type": "code",
        "outputId": "d1336830-298c-4a4a-e2f9-aea59d8afb37",
        "colab": {
          "base_uri": "https://localhost:8080/",
          "height": 51
        }
      },
      "cell_type": "code",
      "source": [
        "# Shape of the training and testing labels\n",
        "print('y_train_unshuffled', type(y_train_unshuffled), y_train_unshuffled.shape)\n",
        "print('y_test', type(y_test), y_test.shape)"
      ],
      "execution_count": 10,
      "outputs": [
        {
          "output_type": "stream",
          "text": [
            "('y_train_unshuffled', <type 'numpy.ndarray'>, (50000, 1))\n",
            "('y_test', <type 'numpy.ndarray'>, (10000, 1))\n"
          ],
          "name": "stdout"
        }
      ]
    },
    {
      "metadata": {
        "id": "H1lA7w2Td-AN",
        "colab_type": "code",
        "colab": {
          "base_uri": "https://localhost:8080/",
          "height": 51
        },
        "outputId": "f19b35ab-0085-40d2-c813-db61a6077f94"
      },
      "cell_type": "code",
      "source": [
        "# Datatype of the training and testing labels\n",
        "print('y_train_unshuffled element type', type(y_train_unshuffled[1,0]))\n",
        "print('y_test element type', type(y_test[1,0]))"
      ],
      "execution_count": 11,
      "outputs": [
        {
          "output_type": "stream",
          "text": [
            "('y_train_unshuffled element type', <type 'numpy.uint8'>)\n",
            "('y_test element type', <type 'numpy.int64'>)\n"
          ],
          "name": "stdout"
        }
      ]
    },
    {
      "metadata": {
        "id": "RfDJMYnSe0Y6",
        "colab_type": "code",
        "colab": {
          "base_uri": "https://localhost:8080/",
          "height": 51
        },
        "outputId": "6b584fa3-a56f-4384-cba0-0fa4ddbce8ac"
      },
      "cell_type": "code",
      "source": [
        "#Updating the datatype from uint8 to float32 for training and testing data\n",
        "y_train_unshuffled = y_train_unshuffled.astype(np.int32)\n",
        "y_test = y_test.astype(np.int32)\n",
        "print('y_train_unshuffled element type', type(y_train_unshuffled[1,0]))\n",
        "print('y_test element type', type(y_test[1,0]))"
      ],
      "execution_count": 12,
      "outputs": [
        {
          "output_type": "stream",
          "text": [
            "('y_train_unshuffled element type', <type 'numpy.int32'>)\n",
            "('y_test element type', <type 'numpy.int32'>)\n"
          ],
          "name": "stdout"
        }
      ]
    },
    {
      "metadata": {
        "id": "TTELtZjCT0Hj",
        "colab_type": "code",
        "colab": {}
      },
      "cell_type": "code",
      "source": [
        "# Saperating training and validation data and labels with shuffle from unshuffled data and lables\n",
        "from sklearn.model_selection import train_test_split\n",
        "X_train, X_valid, y_train, y_valid = train_test_split(\n",
        "    x_train_unshuffled, y_train_unshuffled, test_size=0.1, random_state=42)"
      ],
      "execution_count": 0,
      "outputs": []
    },
    {
      "metadata": {
        "id": "Lmix9YKGgiP1",
        "colab_type": "code",
        "colab": {
          "base_uri": "https://localhost:8080/",
          "height": 51
        },
        "outputId": "86f6baa6-d38c-47b0-999a-bb6f8750a2c9"
      },
      "cell_type": "code",
      "source": [
        "# Shape of the training and testing data\n",
        "print('X_train', X_train.shape)\n",
        "print('X_valid', X_valid.shape)"
      ],
      "execution_count": 14,
      "outputs": [
        {
          "output_type": "stream",
          "text": [
            "('X_train', (45000, 32, 32, 3))\n",
            "('X_valid', (5000, 32, 32, 3))\n"
          ],
          "name": "stdout"
        }
      ]
    },
    {
      "metadata": {
        "id": "7TCAbPuFgG47",
        "colab_type": "code",
        "colab": {
          "base_uri": "https://localhost:8080/",
          "height": 51
        },
        "outputId": "4c0f9b8c-014e-4b3b-90b8-5d39447dd0c2"
      },
      "cell_type": "code",
      "source": [
        "# Shape of the training and testing labels\n",
        "print('y_train', y_train.shape)\n",
        "print('y_valid', y_valid.shape)"
      ],
      "execution_count": 15,
      "outputs": [
        {
          "output_type": "stream",
          "text": [
            "('y_train', (45000, 1))\n",
            "('y_valid', (5000, 1))\n"
          ],
          "name": "stdout"
        }
      ]
    },
    {
      "metadata": {
        "id": "0otq5-kmg8gd",
        "colab_type": "text"
      },
      "cell_type": "markdown",
      "source": [
        "**Visualization of the distribution of datapoints among the classes**"
      ]
    },
    {
      "metadata": {
        "id": "V1UQ9uHrT9b7",
        "colab_type": "code",
        "outputId": "d6556f79-1fd4-44c3-af97-2b716129b653",
        "colab": {
          "base_uri": "https://localhost:8080/",
          "height": 34
        }
      },
      "cell_type": "code",
      "source": [
        "# Getting the information on the number of classes and training data points distribution among classes\n",
        "class_train, counts_train = np.unique(y_train_unshuffled, return_counts = True)\n",
        "distribution_train = dict(zip(class_train, counts_train))\n",
        "print(distribution_train )"
      ],
      "execution_count": 16,
      "outputs": [
        {
          "output_type": "stream",
          "text": [
            "{0: 5000, 1: 5000, 2: 5000, 3: 5000, 4: 5000, 5: 5000, 6: 5000, 7: 5000, 8: 5000, 9: 5000}\n"
          ],
          "name": "stdout"
        }
      ]
    },
    {
      "metadata": {
        "id": "Tl19GtzVUW-b",
        "colab_type": "code",
        "outputId": "21875073-b955-499e-a403-50e54741e01a",
        "colab": {
          "base_uri": "https://localhost:8080/",
          "height": 620
        }
      },
      "cell_type": "code",
      "source": [
        "#Plot of the training datapoints distribution among classes\n",
        "plt.figure(figsize=(10,10))\n",
        "plt.bar(list(class_names),distribution_train.values(),width =0.6)\n",
        "plt.xlabel('Classes')\n",
        "plt.ylabel('Counts')\n",
        "plt.title('Training data distribution among classes')\n",
        "plt.show()"
      ],
      "execution_count": 17,
      "outputs": [
        {
          "output_type": "display_data",
          "data": {
            "image/png": "[encoded data removed]",
            "text/plain": [
              "<matplotlib.figure.Figure at 0x7fc6c94f0b90>"
            ]
          },
          "metadata": {
            "tags": []
          }
        }
      ]
    },
    {
      "metadata": {
        "id": "stB3gO9vhd-7",
        "colab_type": "code",
        "colab": {
          "base_uri": "https://localhost:8080/",
          "height": 34
        },
        "outputId": "2e7d1f7e-6e24-44e5-8690-27f97bbf9e2e"
      },
      "cell_type": "code",
      "source": [
        "# Getting the information on the number of classes and testing data points distribution among classes\n",
        "class_train, counts_train = np.unique(y_test, return_counts = True)\n",
        "distribution_train = dict(zip(class_train, counts_train))\n",
        "print(distribution_train )"
      ],
      "execution_count": 18,
      "outputs": [
        {
          "output_type": "stream",
          "text": [
            "{0: 1000, 1: 1000, 2: 1000, 3: 1000, 4: 1000, 5: 1000, 6: 1000, 7: 1000, 8: 1000, 9: 1000}\n"
          ],
          "name": "stdout"
        }
      ]
    },
    {
      "metadata": {
        "id": "NcGatMrRhrk5",
        "colab_type": "code",
        "colab": {
          "base_uri": "https://localhost:8080/",
          "height": 620
        },
        "outputId": "72a8434d-3c3b-4c57-a6a0-dc5af69f4fea"
      },
      "cell_type": "code",
      "source": [
        "#Plot of the testing datapoints distribution among classes\n",
        "plt.figure(figsize=(10,10))\n",
        "plt.bar(list(class_names),distribution_train.values(),width =0.6)\n",
        "plt.xlabel('Classes')\n",
        "plt.ylabel('Counts')\n",
        "plt.title('Testing data distribution among classes')\n",
        "plt.show()"
      ],
      "execution_count": 19,
      "outputs": [
        {
          "output_type": "display_data",
          "data": {
            "image/png": "[encoded data removed]",
            "text/plain": [
              "<matplotlib.figure.Figure at 0x7fc6c94113d0>"
            ]
          },
          "metadata": {
            "tags": []
          }
        }
      ]
    },
    {
      "metadata": {
        "id": "uiSXxsLEh6JU",
        "colab_type": "text"
      },
      "cell_type": "markdown",
      "source": [
        "# **Feature Scaling and One Hot Encoding**"
      ]
    },
    {
      "metadata": {
        "id": "LOTmyGcjh5ja",
        "colab_type": "code",
        "colab": {
          "base_uri": "https://localhost:8080/",
          "height": 68
        },
        "outputId": "f8d446af-7bc8-4ad7-9c8e-9c5b37823ec1"
      },
      "cell_type": "code",
      "source": [
        "# Flattening of the training, testing and validation data\n",
        "X_train_ft = X_train.flatten().reshape(45000,-1)\n",
        "X_valid_ft = X_valid.flatten().reshape(5000,-1)\n",
        "X_test_ft = X_test.flatten().reshape(10000,-1)\n",
        "# Shape of the flattened training, validation, and testing data\n",
        "print('X_train_ft', X_train_ft.shape)\n",
        "print('X_valid_ft', X_valid_ft.shape)\n",
        "print('X_test_ft', X_test_ft.shape)"
      ],
      "execution_count": 20,
      "outputs": [
        {
          "output_type": "stream",
          "text": [
            "('X_train_ft', (45000, 3072))\n",
            "('X_valid_ft', (5000, 3072))\n",
            "('X_test_ft', (10000, 3072))\n"
          ],
          "name": "stdout"
        }
      ]
    },
    {
      "metadata": {
        "id": "JtlsjMOuaAWK",
        "colab_type": "code",
        "colab": {}
      },
      "cell_type": "code",
      "source": [
        "#Scaling the data using Standerd Scaler\n",
        "from sklearn.preprocessing import StandardScaler\n",
        "scaler = StandardScaler()\n",
        "#X_train_sc = scaler.fit_transform(X_train)\n",
        "#X_valid_sc = scaler.fit_transform(X_valid)\n",
        "#X_test_sc = scaler.fit_transform(X_test)\n",
        "X_train_ft_sc = scaler.fit_transform(X_train_ft)\n",
        "X_valid_ft_sc = scaler.fit_transform(X_valid_ft)\n",
        "X_test_ft_sc = scaler.fit_transform(X_test_ft)"
      ],
      "execution_count": 0,
      "outputs": []
    },
    {
      "metadata": {
        "id": "WHfp7cni0eYO",
        "colab_type": "code",
        "colab": {}
      },
      "cell_type": "code",
      "source": [
        "#Scaling the data using Min-Max Scaling\n",
        "from sklearn.preprocessing import MinMaxScaler\n",
        "scaler_mm = MinMaxScaler()\n",
        "X_train_ft_mm = scaler_mm.fit_transform(X_train_ft)\n",
        "X_valid_ft_mm = scaler_mm.fit_transform(X_valid_ft)\n",
        "X_test_ft_mm = scaler_mm.fit_transform(X_test_ft)"
      ],
      "execution_count": 0,
      "outputs": []
    },
    {
      "metadata": {
        "id": "wA6eBR2R38Wi",
        "colab_type": "code",
        "colab": {}
      },
      "cell_type": "code",
      "source": [
        "#Need to add one hot encoding here!\n",
        "#One Hot encoding of the lables\n",
        "from sklearn.preprocessing import OneHotEncoder\n",
        "oh_enc = OneHotEncoder()\n",
        "#y_train_oh = oh_enc.fit_transform(y_train)\n",
        "#y_valid_oh = oh_enc.fit_transform(y_valid)\n",
        "#y_test_oh = oh_enc.fit_transform(y_test)\n",
        "\n",
        "y_train_oh  = tf.keras.utils.to_categorical(y_train, num_classes)\n",
        "y_valid_oh  = tf.keras.utils.to_categorical(y_valid, num_classes)\n",
        "y_test_oh  = tf.keras.utils.to_categorical(y_test, num_classes)"
      ],
      "execution_count": 0,
      "outputs": []
    },
    {
      "metadata": {
        "id": "uBt_Zp3o2ivT",
        "colab_type": "text"
      },
      "cell_type": "markdown",
      "source": [
        "# Testing the scaled and unscaled datasets on a generic DNN "
      ]
    },
    {
      "metadata": {
        "id": "uzBlgm8w127O",
        "colab_type": "text"
      },
      "cell_type": "markdown",
      "source": [
        "**Performance of Unscaled Data**"
      ]
    },
    {
      "metadata": {
        "id": "FlquPMuG1o0r",
        "colab_type": "code",
        "colab": {
          "base_uri": "https://localhost:8080/",
          "height": 2519
        },
        "outputId": "d26851d6-15aa-488e-d751-7b2109b1c399"
      },
      "cell_type": "code",
      "source": [
        "#Performance of Unscaled data\n",
        "batch_size = 50\n",
        "epoch = len(X_train_ft) /batch_size\n",
        "lr = 0.001\n",
        "config = tf.contrib.learn.RunConfig(tf_random_seed=42,\n",
        "                                   save_checkpoints_steps= 100)\n",
        "                                   #model_dir=\"./models/initial/cifar10_init/\") \n",
        "# set the random seed for tensorflow initializers(for consistency between reruns)\n",
        "\n",
        "feature_columns = tf.contrib.learn.infer_real_valued_columns_from_input(X_train_ft)\n",
        "dnn_clf = tf.contrib.learn.DNNClassifier(hidden_units = [5000],\n",
        "                                          feature_columns=feature_columns,\n",
        "                                          config=config,\n",
        "                                          n_classes=num_classes,\n",
        "                                          activation_fn=tf.nn.relu,\n",
        "                                          optimizer=tf.contrib.optimizer_v2.AdagradOptimizer(learning_rate=lr),\n",
        "                                          model_dir=None,\n",
        "                                          weight_column_name=None,\n",
        "                                          dropout=None,\n",
        "                                          gradient_clip_norm=None,\n",
        "                                          enable_centered_bias=False,\n",
        "                                          feature_engineering_fn=None,\n",
        "                                          embedding_lr_multipliers=None,\n",
        "                                          input_layer_min_slice_size=None,\n",
        "                                          label_keys=None)\n",
        "\n",
        "#tf.contrib.optimizer_v2.AdagradOptimizer(learning_rate=lr)\n",
        "#tf.contrib.optimizer_v2.AdadeltaOptimizer(learning_rate=lr,rho=0.95,epsilon=1e-07)\n",
        "\n",
        "dnn_clf = tf.contrib.learn.SKCompat(dnn_clf) # to be compatible with sklearn\n",
        "dnn_clf.fit(X_train_ft, y_train, batch_size=batch_size, steps=epoch*5)"
      ],
      "execution_count": 31,
      "outputs": [
        {
          "output_type": "stream",
          "text": [
            "WARNING:tensorflow:Using temporary folder as model directory: /tmp/tmp8kGbrd\n",
            "INFO:tensorflow:Using config: {'_save_checkpoints_secs': None, '_num_ps_replicas': 0, '_keep_checkpoint_max': 5, '_task_type': None, '_train_distribute': None, '_is_chief': True, '_cluster_spec': <tensorflow.python.training.server_lib.ClusterSpec object at 0x7fc6c17fb850>, '_tf_config': gpu_options {\n",
            "  per_process_gpu_memory_fraction: 1.0\n",
            "}\n",
            ", '_protocol': None, '_save_checkpoints_steps': 100, '_keep_checkpoint_every_n_hours': 10000, '_session_config': None, '_model_dir': '/tmp/tmp8kGbrd', '_tf_random_seed': 42, '_master': '', '_device_fn': None, '_num_worker_replicas': 0, '_task_id': 0, '_log_step_count_steps': 100, '_evaluation_master': '', '_eval_distribute': None, '_environment': 'local', '_save_summary_steps': 100}\n",
            "INFO:tensorflow:Create CheckpointSaverHook.\n",
            "INFO:tensorflow:Graph was finalized.\n",
            "INFO:tensorflow:Running local_init_op.\n",
            "INFO:tensorflow:Done running local_init_op.\n",
            "INFO:tensorflow:Saving checkpoints for 0 into /tmp/tmp8kGbrd/model.ckpt.\n",
            "INFO:tensorflow:loss = 164.52156, step = 0\n",
            "INFO:tensorflow:Saving checkpoints for 100 into /tmp/tmp8kGbrd/model.ckpt.\n",
            "INFO:tensorflow:global_step/sec: 85.9324\n",
            "INFO:tensorflow:loss = 40.962486, step = 100 (1.166 sec)\n",
            "INFO:tensorflow:Saving checkpoints for 200 into /tmp/tmp8kGbrd/model.ckpt.\n",
            "INFO:tensorflow:global_step/sec: 92.4652\n",
            "INFO:tensorflow:loss = 27.247974, step = 200 (1.086 sec)\n",
            "INFO:tensorflow:Saving checkpoints for 300 into /tmp/tmp8kGbrd/model.ckpt.\n",
            "INFO:tensorflow:global_step/sec: 95.5493\n",
            "INFO:tensorflow:loss = 18.176966, step = 300 (1.045 sec)\n",
            "INFO:tensorflow:Saving checkpoints for 400 into /tmp/tmp8kGbrd/model.ckpt.\n",
            "INFO:tensorflow:global_step/sec: 93.3831\n",
            "INFO:tensorflow:loss = 45.56649, step = 400 (1.072 sec)\n",
            "INFO:tensorflow:Saving checkpoints for 500 into /tmp/tmp8kGbrd/model.ckpt.\n",
            "INFO:tensorflow:global_step/sec: 88.693\n",
            "INFO:tensorflow:loss = 19.156567, step = 500 (1.127 sec)\n",
            "INFO:tensorflow:Saving checkpoints for 600 into /tmp/tmp8kGbrd/model.ckpt.\n",
            "INFO:tensorflow:global_step/sec: 95.1533\n",
            "INFO:tensorflow:loss = 16.330654, step = 600 (1.054 sec)\n",
            "INFO:tensorflow:Saving checkpoints for 700 into /tmp/tmp8kGbrd/model.ckpt.\n",
            "INFO:tensorflow:global_step/sec: 92.4072\n",
            "INFO:tensorflow:loss = 21.074577, step = 700 (1.079 sec)\n",
            "INFO:tensorflow:Saving checkpoints for 800 into /tmp/tmp8kGbrd/model.ckpt.\n",
            "INFO:tensorflow:global_step/sec: 85.3436\n",
            "INFO:tensorflow:loss = 14.681716, step = 800 (1.170 sec)\n",
            "INFO:tensorflow:Saving checkpoints for 900 into /tmp/tmp8kGbrd/model.ckpt.\n",
            "INFO:tensorflow:global_step/sec: 101.352\n",
            "INFO:tensorflow:loss = 24.97066, step = 900 (0.996 sec)\n",
            "INFO:tensorflow:Saving checkpoints for 1000 into /tmp/tmp8kGbrd/model.ckpt.\n",
            "INFO:tensorflow:global_step/sec: 87.9674\n",
            "INFO:tensorflow:loss = 17.79859, step = 1000 (1.126 sec)\n",
            "INFO:tensorflow:Saving checkpoints for 1100 into /tmp/tmp8kGbrd/model.ckpt.\n",
            "INFO:tensorflow:global_step/sec: 98.3714\n",
            "INFO:tensorflow:loss = 11.0921335, step = 1100 (1.016 sec)\n",
            "INFO:tensorflow:Saving checkpoints for 1200 into /tmp/tmp8kGbrd/model.ckpt.\n",
            "INFO:tensorflow:global_step/sec: 93.7094\n",
            "INFO:tensorflow:loss = 15.849624, step = 1200 (1.068 sec)\n",
            "INFO:tensorflow:Saving checkpoints for 1300 into /tmp/tmp8kGbrd/model.ckpt.\n",
            "INFO:tensorflow:global_step/sec: 90.4025\n",
            "INFO:tensorflow:loss = 18.190842, step = 1300 (1.106 sec)\n",
            "INFO:tensorflow:Saving checkpoints for 1400 into /tmp/tmp8kGbrd/model.ckpt.\n",
            "INFO:tensorflow:global_step/sec: 97.0506\n",
            "INFO:tensorflow:loss = 12.127427, step = 1400 (1.032 sec)\n",
            "INFO:tensorflow:Saving checkpoints for 1500 into /tmp/tmp8kGbrd/model.ckpt.\n",
            "INFO:tensorflow:global_step/sec: 91.7793\n",
            "INFO:tensorflow:loss = 9.939069, step = 1500 (1.091 sec)\n",
            "INFO:tensorflow:Saving checkpoints for 1600 into /tmp/tmp8kGbrd/model.ckpt.\n",
            "INFO:tensorflow:global_step/sec: 96.9168\n",
            "INFO:tensorflow:loss = 14.50882, step = 1600 (1.029 sec)\n",
            "INFO:tensorflow:Saving checkpoints for 1700 into /tmp/tmp8kGbrd/model.ckpt.\n",
            "INFO:tensorflow:global_step/sec: 96.6684\n",
            "INFO:tensorflow:loss = 12.460752, step = 1700 (1.036 sec)\n",
            "INFO:tensorflow:Saving checkpoints for 1800 into /tmp/tmp8kGbrd/model.ckpt.\n",
            "INFO:tensorflow:global_step/sec: 88.9646\n",
            "INFO:tensorflow:loss = 16.049274, step = 1800 (1.122 sec)\n",
            "INFO:tensorflow:Saving checkpoints for 1900 into /tmp/tmp8kGbrd/model.ckpt.\n",
            "INFO:tensorflow:global_step/sec: 102.905\n",
            "INFO:tensorflow:loss = 11.514108, step = 1900 (0.973 sec)\n",
            "INFO:tensorflow:Saving checkpoints for 2000 into /tmp/tmp8kGbrd/model.ckpt.\n",
            "INFO:tensorflow:global_step/sec: 90.0465\n",
            "INFO:tensorflow:loss = 10.293082, step = 2000 (1.113 sec)\n",
            "INFO:tensorflow:Saving checkpoints for 2100 into /tmp/tmp8kGbrd/model.ckpt.\n",
            "INFO:tensorflow:global_step/sec: 91.4062\n",
            "INFO:tensorflow:loss = 16.779762, step = 2100 (1.095 sec)\n",
            "INFO:tensorflow:Saving checkpoints for 2200 into /tmp/tmp8kGbrd/model.ckpt.\n",
            "INFO:tensorflow:global_step/sec: 82.6474\n",
            "INFO:tensorflow:loss = 7.2477503, step = 2200 (1.208 sec)\n",
            "INFO:tensorflow:Saving checkpoints for 2300 into /tmp/tmp8kGbrd/model.ckpt.\n",
            "INFO:tensorflow:global_step/sec: 92.1031\n",
            "INFO:tensorflow:loss = 11.201568, step = 2300 (1.083 sec)\n",
            "INFO:tensorflow:Saving checkpoints for 2400 into /tmp/tmp8kGbrd/model.ckpt.\n",
            "INFO:tensorflow:global_step/sec: 93.982\n",
            "INFO:tensorflow:loss = 11.841687, step = 2400 (1.064 sec)\n",
            "INFO:tensorflow:Saving checkpoints for 2500 into /tmp/tmp8kGbrd/model.ckpt.\n",
            "INFO:tensorflow:global_step/sec: 91.9854\n",
            "INFO:tensorflow:loss = 15.7156515, step = 2500 (1.092 sec)\n",
            "INFO:tensorflow:Saving checkpoints for 2600 into /tmp/tmp8kGbrd/model.ckpt.\n",
            "INFO:tensorflow:global_step/sec: 89.8944\n",
            "INFO:tensorflow:loss = 10.459766, step = 2600 (1.108 sec)\n",
            "INFO:tensorflow:Saving checkpoints for 2700 into /tmp/tmp8kGbrd/model.ckpt.\n",
            "INFO:tensorflow:global_step/sec: 94.8787\n",
            "INFO:tensorflow:loss = 9.495897, step = 2700 (1.058 sec)\n",
            "INFO:tensorflow:Saving checkpoints for 2800 into /tmp/tmp8kGbrd/model.ckpt.\n",
            "INFO:tensorflow:global_step/sec: 96.2925\n",
            "INFO:tensorflow:loss = 16.646343, step = 2800 (1.037 sec)\n",
            "INFO:tensorflow:Saving checkpoints for 2900 into /tmp/tmp8kGbrd/model.ckpt.\n",
            "INFO:tensorflow:global_step/sec: 92.8682\n",
            "INFO:tensorflow:loss = 11.982876, step = 2900 (1.078 sec)\n",
            "INFO:tensorflow:Saving checkpoints for 3000 into /tmp/tmp8kGbrd/model.ckpt.\n",
            "INFO:tensorflow:global_step/sec: 94.8592\n",
            "INFO:tensorflow:loss = 8.986011, step = 3000 (1.051 sec)\n",
            "INFO:tensorflow:Saving checkpoints for 3100 into /tmp/tmp8kGbrd/model.ckpt.\n",
            "INFO:tensorflow:global_step/sec: 93.6481\n",
            "INFO:tensorflow:loss = 7.0355916, step = 3100 (1.069 sec)\n",
            "INFO:tensorflow:Saving checkpoints for 3200 into /tmp/tmp8kGbrd/model.ckpt.\n",
            "INFO:tensorflow:global_step/sec: 96.5093\n",
            "INFO:tensorflow:loss = 6.776012, step = 3200 (1.038 sec)\n",
            "INFO:tensorflow:Saving checkpoints for 3300 into /tmp/tmp8kGbrd/model.ckpt.\n",
            "INFO:tensorflow:global_step/sec: 91.2293\n",
            "INFO:tensorflow:loss = 9.314761, step = 3300 (1.093 sec)\n",
            "INFO:tensorflow:Saving checkpoints for 3400 into /tmp/tmp8kGbrd/model.ckpt.\n",
            "INFO:tensorflow:global_step/sec: 100.124\n",
            "INFO:tensorflow:loss = 9.487713, step = 3400 (1.001 sec)\n",
            "INFO:tensorflow:Saving checkpoints for 3500 into /tmp/tmp8kGbrd/model.ckpt.\n",
            "INFO:tensorflow:global_step/sec: 88.9767\n",
            "INFO:tensorflow:loss = 8.7691345, step = 3500 (1.122 sec)\n",
            "INFO:tensorflow:Saving checkpoints for 3600 into /tmp/tmp8kGbrd/model.ckpt.\n",
            "INFO:tensorflow:global_step/sec: 95.5356\n",
            "INFO:tensorflow:loss = 5.0018587, step = 3600 (1.050 sec)\n",
            "INFO:tensorflow:Saving checkpoints for 3700 into /tmp/tmp8kGbrd/model.ckpt.\n",
            "INFO:tensorflow:global_step/sec: 83.7976\n",
            "INFO:tensorflow:loss = 8.125047, step = 3700 (1.191 sec)\n",
            "INFO:tensorflow:Saving checkpoints for 3800 into /tmp/tmp8kGbrd/model.ckpt.\n",
            "INFO:tensorflow:global_step/sec: 96.2833\n",
            "INFO:tensorflow:loss = 8.229578, step = 3800 (1.041 sec)\n",
            "INFO:tensorflow:Saving checkpoints for 3900 into /tmp/tmp8kGbrd/model.ckpt.\n",
            "INFO:tensorflow:global_step/sec: 93.5982\n",
            "INFO:tensorflow:loss = 5.5357537, step = 3900 (1.069 sec)\n",
            "INFO:tensorflow:Saving checkpoints for 4000 into /tmp/tmp8kGbrd/model.ckpt.\n",
            "INFO:tensorflow:global_step/sec: 87.6362\n",
            "INFO:tensorflow:loss = 7.40897, step = 4000 (1.138 sec)\n",
            "INFO:tensorflow:Saving checkpoints for 4100 into /tmp/tmp8kGbrd/model.ckpt.\n",
            "INFO:tensorflow:global_step/sec: 93.0185\n",
            "INFO:tensorflow:loss = 6.514719, step = 4100 (1.077 sec)\n",
            "INFO:tensorflow:Saving checkpoints for 4200 into /tmp/tmp8kGbrd/model.ckpt.\n",
            "INFO:tensorflow:global_step/sec: 93.0529\n",
            "INFO:tensorflow:loss = 8.660387, step = 4200 (1.073 sec)\n",
            "INFO:tensorflow:Saving checkpoints for 4300 into /tmp/tmp8kGbrd/model.ckpt.\n",
            "INFO:tensorflow:global_step/sec: 92.8109\n",
            "INFO:tensorflow:loss = 6.184098, step = 4300 (1.084 sec)\n",
            "INFO:tensorflow:Saving checkpoints for 4400 into /tmp/tmp8kGbrd/model.ckpt.\n",
            "INFO:tensorflow:global_step/sec: 90.0367\n",
            "INFO:tensorflow:loss = 7.3386245, step = 4400 (1.102 sec)\n",
            "INFO:tensorflow:Saving checkpoints for 4500 into /tmp/tmp8kGbrd/model.ckpt.\n",
            "INFO:tensorflow:Loss for final step: 9.491079.\n"
          ],
          "name": "stdout"
        },
        {
          "output_type": "execute_result",
          "data": {
            "text/plain": [
              "SKCompat()"
            ]
          },
          "metadata": {
            "tags": []
          },
          "execution_count": 31
        }
      ]
    },
    {
      "metadata": {
        "id": "4jsrTuHa1s96",
        "colab_type": "code",
        "colab": {
          "base_uri": "https://localhost:8080/",
          "height": 119
        },
        "outputId": "209d0edd-b542-4013-e248-4730f489d555"
      },
      "cell_type": "code",
      "source": [
        "y_valid_pred = dnn_clf.predict(X_valid_ft)\n",
        "print(y_valid_pred.keys())\n",
        "accuracy_score(y_valid, y_valid_pred['classes'])"
      ],
      "execution_count": 32,
      "outputs": [
        {
          "output_type": "stream",
          "text": [
            "INFO:tensorflow:Graph was finalized.\n",
            "INFO:tensorflow:Restoring parameters from /tmp/tmp8kGbrd/model.ckpt-4500\n",
            "INFO:tensorflow:Running local_init_op.\n",
            "INFO:tensorflow:Done running local_init_op.\n",
            "['probabilities', 'logits', 'classes']\n"
          ],
          "name": "stdout"
        },
        {
          "output_type": "execute_result",
          "data": {
            "text/plain": [
              "0.301"
            ]
          },
          "metadata": {
            "tags": []
          },
          "execution_count": 32
        }
      ]
    },
    {
      "metadata": {
        "id": "5hEiqF8C17oG",
        "colab_type": "text"
      },
      "cell_type": "markdown",
      "source": [
        "\n",
        "**Performance of MinMax Scaled data**\n"
      ]
    },
    {
      "metadata": {
        "id": "dCo1UYIiE43d",
        "colab_type": "code",
        "outputId": "c0685af0-14bd-45ea-ca42-f302febd0ac6",
        "colab": {
          "base_uri": "https://localhost:8080/",
          "height": 2519
        }
      },
      "cell_type": "code",
      "source": [
        "#Performance of MinMax Scaled data\n",
        "batch_size = 50\n",
        "epoch = len(X_train_ft) /batch_size\n",
        "lr = 0.001\n",
        "config = tf.contrib.learn.RunConfig(tf_random_seed=42,\n",
        "                                   save_checkpoints_steps= 100)\n",
        "                                   #model_dir=\"./models/initial/cifar10_init/\") \n",
        "# set the random seed for tensorflow initializers(for consistency between reruns)\n",
        "\n",
        "feature_columns = tf.contrib.learn.infer_real_valued_columns_from_input(X_train_ft)\n",
        "dnn_clf = tf.contrib.learn.DNNClassifier(hidden_units = [5000],\n",
        "                                          feature_columns=feature_columns,\n",
        "                                          config=config,\n",
        "                                          n_classes=num_classes,\n",
        "                                          activation_fn=tf.nn.relu,\n",
        "                                          optimizer=tf.contrib.optimizer_v2.AdagradOptimizer(learning_rate=lr),\n",
        "                                          model_dir=None,\n",
        "                                          weight_column_name=None,\n",
        "                                          dropout=None,\n",
        "                                          gradient_clip_norm=None,\n",
        "                                          enable_centered_bias=False,\n",
        "                                          feature_engineering_fn=None,\n",
        "                                          embedding_lr_multipliers=None,\n",
        "                                          input_layer_min_slice_size=None,\n",
        "                                          label_keys=None)\n",
        "\n",
        "#tf.contrib.optimizer_v2.AdagradOptimizer(learning_rate=lr)\n",
        "#tf.contrib.optimizer_v2.AdadeltaOptimizer(learning_rate=lr,rho=0.95,epsilon=1e-07)\n",
        "\n",
        "dnn_clf = tf.contrib.learn.SKCompat(dnn_clf) # to be compatible with sklearn\n",
        "dnn_clf.fit(X_train_ft_mm, y_train, batch_size=batch_size, steps=epoch*5)"
      ],
      "execution_count": 33,
      "outputs": [
        {
          "output_type": "stream",
          "text": [
            "WARNING:tensorflow:Using temporary folder as model directory: /tmp/tmpyOX5Ya\n",
            "INFO:tensorflow:Using config: {'_save_checkpoints_secs': None, '_num_ps_replicas': 0, '_keep_checkpoint_max': 5, '_task_type': None, '_train_distribute': None, '_is_chief': True, '_cluster_spec': <tensorflow.python.training.server_lib.ClusterSpec object at 0x7fc6c183dd50>, '_tf_config': gpu_options {\n",
            "  per_process_gpu_memory_fraction: 1.0\n",
            "}\n",
            ", '_protocol': None, '_save_checkpoints_steps': 100, '_keep_checkpoint_every_n_hours': 10000, '_session_config': None, '_model_dir': '/tmp/tmpyOX5Ya', '_tf_random_seed': 42, '_master': '', '_device_fn': None, '_num_worker_replicas': 0, '_task_id': 0, '_log_step_count_steps': 100, '_evaluation_master': '', '_eval_distribute': None, '_environment': 'local', '_save_summary_steps': 100}\n",
            "INFO:tensorflow:Create CheckpointSaverHook.\n",
            "INFO:tensorflow:Graph was finalized.\n",
            "INFO:tensorflow:Running local_init_op.\n",
            "INFO:tensorflow:Done running local_init_op.\n",
            "INFO:tensorflow:Saving checkpoints for 0 into /tmp/tmpyOX5Ya/model.ckpt.\n",
            "INFO:tensorflow:loss = 2.3650155, step = 0\n",
            "INFO:tensorflow:Saving checkpoints for 100 into /tmp/tmpyOX5Ya/model.ckpt.\n",
            "INFO:tensorflow:global_step/sec: 87.1673\n",
            "INFO:tensorflow:loss = 2.0323095, step = 100 (1.153 sec)\n",
            "INFO:tensorflow:Saving checkpoints for 200 into /tmp/tmpyOX5Ya/model.ckpt.\n",
            "INFO:tensorflow:global_step/sec: 92.284\n",
            "INFO:tensorflow:loss = 1.9860579, step = 200 (1.084 sec)\n",
            "INFO:tensorflow:Saving checkpoints for 300 into /tmp/tmpyOX5Ya/model.ckpt.\n",
            "INFO:tensorflow:global_step/sec: 92.4024\n",
            "INFO:tensorflow:loss = 1.8647394, step = 300 (1.083 sec)\n",
            "INFO:tensorflow:Saving checkpoints for 400 into /tmp/tmpyOX5Ya/model.ckpt.\n",
            "INFO:tensorflow:global_step/sec: 99.5063\n",
            "INFO:tensorflow:loss = 1.9174795, step = 400 (1.002 sec)\n",
            "INFO:tensorflow:Saving checkpoints for 500 into /tmp/tmpyOX5Ya/model.ckpt.\n",
            "INFO:tensorflow:global_step/sec: 87.8975\n",
            "INFO:tensorflow:loss = 1.847219, step = 500 (1.137 sec)\n",
            "INFO:tensorflow:Saving checkpoints for 600 into /tmp/tmpyOX5Ya/model.ckpt.\n",
            "INFO:tensorflow:global_step/sec: 92.8181\n",
            "INFO:tensorflow:loss = 1.724628, step = 600 (1.082 sec)\n",
            "INFO:tensorflow:Saving checkpoints for 700 into /tmp/tmpyOX5Ya/model.ckpt.\n",
            "INFO:tensorflow:global_step/sec: 95.3392\n",
            "INFO:tensorflow:loss = 1.7853051, step = 700 (1.048 sec)\n",
            "INFO:tensorflow:Saving checkpoints for 800 into /tmp/tmpyOX5Ya/model.ckpt.\n",
            "INFO:tensorflow:global_step/sec: 96.411\n",
            "INFO:tensorflow:loss = 2.0332508, step = 800 (1.036 sec)\n",
            "INFO:tensorflow:Saving checkpoints for 900 into /tmp/tmpyOX5Ya/model.ckpt.\n",
            "INFO:tensorflow:global_step/sec: 76.6897\n",
            "INFO:tensorflow:loss = 1.8341178, step = 900 (1.303 sec)\n",
            "INFO:tensorflow:Saving checkpoints for 1000 into /tmp/tmpyOX5Ya/model.ckpt.\n",
            "INFO:tensorflow:global_step/sec: 96.7557\n",
            "INFO:tensorflow:loss = 1.9701382, step = 1000 (1.034 sec)\n",
            "INFO:tensorflow:Saving checkpoints for 1100 into /tmp/tmpyOX5Ya/model.ckpt.\n",
            "INFO:tensorflow:global_step/sec: 84.6654\n",
            "INFO:tensorflow:loss = 1.6642014, step = 1100 (1.178 sec)\n",
            "INFO:tensorflow:Saving checkpoints for 1200 into /tmp/tmpyOX5Ya/model.ckpt.\n",
            "INFO:tensorflow:global_step/sec: 94.3492\n",
            "INFO:tensorflow:loss = 1.7318743, step = 1200 (1.061 sec)\n",
            "INFO:tensorflow:Saving checkpoints for 1300 into /tmp/tmpyOX5Ya/model.ckpt.\n",
            "INFO:tensorflow:global_step/sec: 97.6701\n",
            "INFO:tensorflow:loss = 2.048156, step = 1300 (1.025 sec)\n",
            "INFO:tensorflow:Saving checkpoints for 1400 into /tmp/tmpyOX5Ya/model.ckpt.\n",
            "INFO:tensorflow:global_step/sec: 102.739\n",
            "INFO:tensorflow:loss = 1.8026525, step = 1400 (0.998 sec)\n",
            "INFO:tensorflow:Saving checkpoints for 1500 into /tmp/tmpyOX5Ya/model.ckpt.\n",
            "INFO:tensorflow:global_step/sec: 82.9749\n",
            "INFO:tensorflow:loss = 1.633627, step = 1500 (1.181 sec)\n",
            "INFO:tensorflow:Saving checkpoints for 1600 into /tmp/tmpyOX5Ya/model.ckpt.\n",
            "INFO:tensorflow:global_step/sec: 94.878\n",
            "INFO:tensorflow:loss = 1.8405873, step = 1600 (1.055 sec)\n",
            "INFO:tensorflow:Saving checkpoints for 1700 into /tmp/tmpyOX5Ya/model.ckpt.\n",
            "INFO:tensorflow:global_step/sec: 95.0632\n",
            "INFO:tensorflow:loss = 1.7357602, step = 1700 (1.050 sec)\n",
            "INFO:tensorflow:Saving checkpoints for 1800 into /tmp/tmpyOX5Ya/model.ckpt.\n",
            "INFO:tensorflow:global_step/sec: 96.1847\n",
            "INFO:tensorflow:loss = 1.9668933, step = 1800 (1.042 sec)\n",
            "INFO:tensorflow:Saving checkpoints for 1900 into /tmp/tmpyOX5Ya/model.ckpt.\n",
            "INFO:tensorflow:global_step/sec: 68.998\n",
            "INFO:tensorflow:loss = 1.6485019, step = 1900 (1.449 sec)\n",
            "INFO:tensorflow:Saving checkpoints for 2000 into /tmp/tmpyOX5Ya/model.ckpt.\n",
            "INFO:tensorflow:global_step/sec: 88.6566\n",
            "INFO:tensorflow:loss = 1.7045245, step = 2000 (1.128 sec)\n",
            "INFO:tensorflow:Saving checkpoints for 2100 into /tmp/tmpyOX5Ya/model.ckpt.\n",
            "INFO:tensorflow:global_step/sec: 92.9397\n",
            "INFO:tensorflow:loss = 1.7390438, step = 2100 (1.076 sec)\n",
            "INFO:tensorflow:Saving checkpoints for 2200 into /tmp/tmpyOX5Ya/model.ckpt.\n",
            "INFO:tensorflow:global_step/sec: 92.4668\n",
            "INFO:tensorflow:loss = 1.6788155, step = 2200 (1.082 sec)\n",
            "INFO:tensorflow:Saving checkpoints for 2300 into /tmp/tmpyOX5Ya/model.ckpt.\n",
            "INFO:tensorflow:global_step/sec: 96.6936\n",
            "INFO:tensorflow:loss = 1.7216263, step = 2300 (1.036 sec)\n",
            "INFO:tensorflow:Saving checkpoints for 2400 into /tmp/tmpyOX5Ya/model.ckpt.\n",
            "INFO:tensorflow:global_step/sec: 97.71\n",
            "INFO:tensorflow:loss = 1.9256331, step = 2400 (1.022 sec)\n",
            "INFO:tensorflow:Saving checkpoints for 2500 into /tmp/tmpyOX5Ya/model.ckpt.\n",
            "INFO:tensorflow:global_step/sec: 80.1122\n",
            "INFO:tensorflow:loss = 1.974787, step = 2500 (1.249 sec)\n",
            "INFO:tensorflow:Saving checkpoints for 2600 into /tmp/tmpyOX5Ya/model.ckpt.\n",
            "INFO:tensorflow:global_step/sec: 93.124\n",
            "INFO:tensorflow:loss = 1.8895121, step = 2600 (1.072 sec)\n",
            "INFO:tensorflow:Saving checkpoints for 2700 into /tmp/tmpyOX5Ya/model.ckpt.\n",
            "INFO:tensorflow:global_step/sec: 94.2271\n",
            "INFO:tensorflow:loss = 1.8403741, step = 2700 (1.062 sec)\n",
            "INFO:tensorflow:Saving checkpoints for 2800 into /tmp/tmpyOX5Ya/model.ckpt.\n",
            "INFO:tensorflow:global_step/sec: 87.2723\n",
            "INFO:tensorflow:loss = 1.7006214, step = 2800 (1.148 sec)\n",
            "INFO:tensorflow:Saving checkpoints for 2900 into /tmp/tmpyOX5Ya/model.ckpt.\n",
            "INFO:tensorflow:global_step/sec: 92.0867\n",
            "INFO:tensorflow:loss = 1.5536281, step = 2900 (1.086 sec)\n",
            "INFO:tensorflow:Saving checkpoints for 3000 into /tmp/tmpyOX5Ya/model.ckpt.\n",
            "INFO:tensorflow:global_step/sec: 94.5804\n",
            "INFO:tensorflow:loss = 1.7789109, step = 3000 (1.057 sec)\n",
            "INFO:tensorflow:Saving checkpoints for 3100 into /tmp/tmpyOX5Ya/model.ckpt.\n",
            "INFO:tensorflow:global_step/sec: 92.7265\n",
            "INFO:tensorflow:loss = 1.6817572, step = 3100 (1.074 sec)\n",
            "INFO:tensorflow:Saving checkpoints for 3200 into /tmp/tmpyOX5Ya/model.ckpt.\n",
            "INFO:tensorflow:global_step/sec: 96.5089\n",
            "INFO:tensorflow:loss = 1.672914, step = 3200 (1.036 sec)\n",
            "INFO:tensorflow:Saving checkpoints for 3300 into /tmp/tmpyOX5Ya/model.ckpt.\n",
            "INFO:tensorflow:global_step/sec: 88.7055\n",
            "INFO:tensorflow:loss = 1.7122875, step = 3300 (1.128 sec)\n",
            "INFO:tensorflow:Saving checkpoints for 3400 into /tmp/tmpyOX5Ya/model.ckpt.\n",
            "INFO:tensorflow:global_step/sec: 91.7226\n",
            "INFO:tensorflow:loss = 1.832233, step = 3400 (1.091 sec)\n",
            "INFO:tensorflow:Saving checkpoints for 3500 into /tmp/tmpyOX5Ya/model.ckpt.\n",
            "INFO:tensorflow:global_step/sec: 94.2027\n",
            "INFO:tensorflow:loss = 1.702004, step = 3500 (1.060 sec)\n",
            "INFO:tensorflow:Saving checkpoints for 3600 into /tmp/tmpyOX5Ya/model.ckpt.\n",
            "INFO:tensorflow:global_step/sec: 94.6161\n",
            "INFO:tensorflow:loss = 1.5050724, step = 3600 (1.060 sec)\n",
            "INFO:tensorflow:Saving checkpoints for 3700 into /tmp/tmpyOX5Ya/model.ckpt.\n",
            "INFO:tensorflow:global_step/sec: 91.9139\n",
            "INFO:tensorflow:loss = 1.8902986, step = 3700 (1.086 sec)\n",
            "INFO:tensorflow:Saving checkpoints for 3800 into /tmp/tmpyOX5Ya/model.ckpt.\n",
            "INFO:tensorflow:global_step/sec: 101.697\n",
            "INFO:tensorflow:loss = 1.9092075, step = 3800 (0.982 sec)\n",
            "INFO:tensorflow:Saving checkpoints for 3900 into /tmp/tmpyOX5Ya/model.ckpt.\n",
            "INFO:tensorflow:global_step/sec: 89.7025\n",
            "INFO:tensorflow:loss = 1.6344135, step = 3900 (1.117 sec)\n",
            "INFO:tensorflow:Saving checkpoints for 4000 into /tmp/tmpyOX5Ya/model.ckpt.\n",
            "INFO:tensorflow:global_step/sec: 94.0688\n",
            "INFO:tensorflow:loss = 1.595635, step = 4000 (1.062 sec)\n",
            "INFO:tensorflow:Saving checkpoints for 4100 into /tmp/tmpyOX5Ya/model.ckpt.\n",
            "INFO:tensorflow:global_step/sec: 93.88\n",
            "INFO:tensorflow:loss = 1.5701127, step = 4100 (1.070 sec)\n",
            "INFO:tensorflow:Saving checkpoints for 4200 into /tmp/tmpyOX5Ya/model.ckpt.\n",
            "INFO:tensorflow:global_step/sec: 94.0438\n",
            "INFO:tensorflow:loss = 1.717196, step = 4200 (1.062 sec)\n",
            "INFO:tensorflow:Saving checkpoints for 4300 into /tmp/tmpyOX5Ya/model.ckpt.\n",
            "INFO:tensorflow:global_step/sec: 93.1478\n",
            "INFO:tensorflow:loss = 1.7401717, step = 4300 (1.072 sec)\n",
            "INFO:tensorflow:Saving checkpoints for 4400 into /tmp/tmpyOX5Ya/model.ckpt.\n",
            "INFO:tensorflow:global_step/sec: 95.02\n",
            "INFO:tensorflow:loss = 1.7819499, step = 4400 (1.051 sec)\n",
            "INFO:tensorflow:Saving checkpoints for 4500 into /tmp/tmpyOX5Ya/model.ckpt.\n",
            "INFO:tensorflow:Loss for final step: 1.836594.\n"
          ],
          "name": "stdout"
        },
        {
          "output_type": "execute_result",
          "data": {
            "text/plain": [
              "SKCompat()"
            ]
          },
          "metadata": {
            "tags": []
          },
          "execution_count": 33
        }
      ]
    },
    {
      "metadata": {
        "id": "MySSJ32mGI1a",
        "colab_type": "code",
        "outputId": "8f18955a-0191-4511-a48c-822cefc5ce6a",
        "colab": {
          "base_uri": "https://localhost:8080/",
          "height": 119
        }
      },
      "cell_type": "code",
      "source": [
        "y_valid_pred = dnn_clf.predict(X_valid_ft_mm)\n",
        "print(y_valid_pred.keys())\n",
        "accuracy_score(y_valid, y_valid_pred['classes'])"
      ],
      "execution_count": 34,
      "outputs": [
        {
          "output_type": "stream",
          "text": [
            "INFO:tensorflow:Graph was finalized.\n",
            "INFO:tensorflow:Restoring parameters from /tmp/tmpyOX5Ya/model.ckpt-4500\n",
            "INFO:tensorflow:Running local_init_op.\n",
            "INFO:tensorflow:Done running local_init_op.\n",
            "['probabilities', 'logits', 'classes']\n"
          ],
          "name": "stdout"
        },
        {
          "output_type": "execute_result",
          "data": {
            "text/plain": [
              "0.4156"
            ]
          },
          "metadata": {
            "tags": []
          },
          "execution_count": 34
        }
      ]
    },
    {
      "metadata": {
        "id": "O6Z8qCse2QF8",
        "colab_type": "text"
      },
      "cell_type": "markdown",
      "source": [
        "**Performance of Standerd Sacler Scaled data**"
      ]
    },
    {
      "metadata": {
        "id": "I_4Gdp8L0CuB",
        "colab_type": "code",
        "colab": {
          "base_uri": "https://localhost:8080/",
          "height": 2519
        },
        "outputId": "80594e42-a298-478e-c3c3-b9501ee4ca46"
      },
      "cell_type": "code",
      "source": [
        "#Performance of Standerd Scaler Scaled data\n",
        "batch_size = 50\n",
        "epoch = len(X_train_ft) /batch_size\n",
        "lr = 0.001\n",
        "config = tf.contrib.learn.RunConfig(tf_random_seed=42,\n",
        "                                   save_checkpoints_steps= 100)\n",
        "                                   #model_dir=\"./models/initial/cifar10_init/\") \n",
        "# set the random seed for tensorflow initializers(for consistency between reruns)\n",
        "\n",
        "feature_columns = tf.contrib.learn.infer_real_valued_columns_from_input(X_train_ft)\n",
        "dnn_clf = tf.contrib.learn.DNNClassifier(hidden_units = [5000],\n",
        "                                          feature_columns=feature_columns,\n",
        "                                          config=config,\n",
        "                                          n_classes=num_classes,\n",
        "                                          activation_fn=tf.nn.relu,\n",
        "                                          optimizer=tf.contrib.optimizer_v2.AdagradOptimizer(learning_rate=lr),\n",
        "                                          model_dir=None,\n",
        "                                          weight_column_name=None,\n",
        "                                          dropout=None,\n",
        "                                          gradient_clip_norm=None,\n",
        "                                          enable_centered_bias=False,\n",
        "                                          feature_engineering_fn=None,\n",
        "                                          embedding_lr_multipliers=None,\n",
        "                                          input_layer_min_slice_size=None,\n",
        "                                          label_keys=None)\n",
        "\n",
        "#tf.contrib.optimizer_v2.AdagradOptimizer(learning_rate=lr)\n",
        "#tf.contrib.optimizer_v2.AdadeltaOptimizer(learning_rate=lr,rho=0.95,epsilon=1e-07)\n",
        "\n",
        "dnn_clf = tf.contrib.learn.SKCompat(dnn_clf) # to be compatible with sklearn\n",
        "dnn_clf.fit(X_train_ft_sc, y_train, batch_size=batch_size, steps=epoch*5)"
      ],
      "execution_count": 35,
      "outputs": [
        {
          "output_type": "stream",
          "text": [
            "WARNING:tensorflow:Using temporary folder as model directory: /tmp/tmps8IrdL\n",
            "INFO:tensorflow:Using config: {'_save_checkpoints_secs': None, '_num_ps_replicas': 0, '_keep_checkpoint_max': 5, '_task_type': None, '_train_distribute': None, '_is_chief': True, '_cluster_spec': <tensorflow.python.training.server_lib.ClusterSpec object at 0x7fc6bfaf1a90>, '_tf_config': gpu_options {\n",
            "  per_process_gpu_memory_fraction: 1.0\n",
            "}\n",
            ", '_protocol': None, '_save_checkpoints_steps': 100, '_keep_checkpoint_every_n_hours': 10000, '_session_config': None, '_model_dir': '/tmp/tmps8IrdL', '_tf_random_seed': 42, '_master': '', '_device_fn': None, '_num_worker_replicas': 0, '_task_id': 0, '_log_step_count_steps': 100, '_evaluation_master': '', '_eval_distribute': None, '_environment': 'local', '_save_summary_steps': 100}\n",
            "INFO:tensorflow:Create CheckpointSaverHook.\n",
            "INFO:tensorflow:Graph was finalized.\n",
            "INFO:tensorflow:Running local_init_op.\n",
            "INFO:tensorflow:Done running local_init_op.\n",
            "INFO:tensorflow:Saving checkpoints for 0 into /tmp/tmps8IrdL/model.ckpt.\n",
            "INFO:tensorflow:loss = 2.5555365, step = 0\n",
            "INFO:tensorflow:Saving checkpoints for 100 into /tmp/tmps8IrdL/model.ckpt.\n",
            "INFO:tensorflow:global_step/sec: 86.3962\n",
            "INFO:tensorflow:loss = 1.7266569, step = 100 (1.163 sec)\n",
            "INFO:tensorflow:Saving checkpoints for 200 into /tmp/tmps8IrdL/model.ckpt.\n",
            "INFO:tensorflow:global_step/sec: 92.8478\n",
            "INFO:tensorflow:loss = 1.6279579, step = 200 (1.073 sec)\n",
            "INFO:tensorflow:Saving checkpoints for 300 into /tmp/tmps8IrdL/model.ckpt.\n",
            "INFO:tensorflow:global_step/sec: 86.0108\n",
            "INFO:tensorflow:loss = 1.5519406, step = 300 (1.167 sec)\n",
            "INFO:tensorflow:Saving checkpoints for 400 into /tmp/tmps8IrdL/model.ckpt.\n",
            "INFO:tensorflow:global_step/sec: 91.5157\n",
            "INFO:tensorflow:loss = 1.7011288, step = 400 (1.091 sec)\n",
            "INFO:tensorflow:Saving checkpoints for 500 into /tmp/tmps8IrdL/model.ckpt.\n",
            "INFO:tensorflow:global_step/sec: 90.5759\n",
            "INFO:tensorflow:loss = 1.4999952, step = 500 (1.103 sec)\n",
            "INFO:tensorflow:Saving checkpoints for 600 into /tmp/tmps8IrdL/model.ckpt.\n",
            "INFO:tensorflow:global_step/sec: 93.5395\n",
            "INFO:tensorflow:loss = 1.4245039, step = 600 (1.069 sec)\n",
            "INFO:tensorflow:Saving checkpoints for 700 into /tmp/tmps8IrdL/model.ckpt.\n",
            "INFO:tensorflow:global_step/sec: 94.6556\n",
            "INFO:tensorflow:loss = 1.5205518, step = 700 (1.058 sec)\n",
            "INFO:tensorflow:Saving checkpoints for 800 into /tmp/tmps8IrdL/model.ckpt.\n",
            "INFO:tensorflow:global_step/sec: 86.7788\n",
            "INFO:tensorflow:loss = 1.6554266, step = 800 (1.154 sec)\n",
            "INFO:tensorflow:Saving checkpoints for 900 into /tmp/tmps8IrdL/model.ckpt.\n",
            "INFO:tensorflow:global_step/sec: 91.402\n",
            "INFO:tensorflow:loss = 1.5016081, step = 900 (1.090 sec)\n",
            "INFO:tensorflow:Saving checkpoints for 1000 into /tmp/tmps8IrdL/model.ckpt.\n",
            "INFO:tensorflow:global_step/sec: 89.0402\n",
            "INFO:tensorflow:loss = 1.7227416, step = 1000 (1.127 sec)\n",
            "INFO:tensorflow:Saving checkpoints for 1100 into /tmp/tmps8IrdL/model.ckpt.\n",
            "INFO:tensorflow:global_step/sec: 94.872\n",
            "INFO:tensorflow:loss = 1.298497, step = 1100 (1.050 sec)\n",
            "INFO:tensorflow:Saving checkpoints for 1200 into /tmp/tmps8IrdL/model.ckpt.\n",
            "INFO:tensorflow:global_step/sec: 94.7608\n",
            "INFO:tensorflow:loss = 1.4129274, step = 1200 (1.054 sec)\n",
            "INFO:tensorflow:Saving checkpoints for 1300 into /tmp/tmps8IrdL/model.ckpt.\n",
            "INFO:tensorflow:global_step/sec: 92.122\n",
            "INFO:tensorflow:loss = 1.7556757, step = 1300 (1.088 sec)\n",
            "INFO:tensorflow:Saving checkpoints for 1400 into /tmp/tmps8IrdL/model.ckpt.\n",
            "INFO:tensorflow:global_step/sec: 93.9683\n",
            "INFO:tensorflow:loss = 1.4928064, step = 1400 (1.065 sec)\n",
            "INFO:tensorflow:Saving checkpoints for 1500 into /tmp/tmps8IrdL/model.ckpt.\n",
            "INFO:tensorflow:global_step/sec: 89.4822\n",
            "INFO:tensorflow:loss = 1.3500376, step = 1500 (1.117 sec)\n",
            "INFO:tensorflow:Saving checkpoints for 1600 into /tmp/tmps8IrdL/model.ckpt.\n",
            "INFO:tensorflow:global_step/sec: 94.2612\n",
            "INFO:tensorflow:loss = 1.5191846, step = 1600 (1.058 sec)\n",
            "INFO:tensorflow:Saving checkpoints for 1700 into /tmp/tmps8IrdL/model.ckpt.\n",
            "INFO:tensorflow:global_step/sec: 95.8418\n",
            "INFO:tensorflow:loss = 1.4306608, step = 1700 (1.045 sec)\n",
            "INFO:tensorflow:Saving checkpoints for 1800 into /tmp/tmps8IrdL/model.ckpt.\n",
            "INFO:tensorflow:global_step/sec: 90.1992\n",
            "INFO:tensorflow:loss = 1.586138, step = 1800 (1.112 sec)\n",
            "INFO:tensorflow:Saving checkpoints for 1900 into /tmp/tmps8IrdL/model.ckpt.\n",
            "INFO:tensorflow:global_step/sec: 87.364\n",
            "INFO:tensorflow:loss = 1.305307, step = 1900 (1.142 sec)\n",
            "INFO:tensorflow:Saving checkpoints for 2000 into /tmp/tmps8IrdL/model.ckpt.\n",
            "INFO:tensorflow:global_step/sec: 87.0417\n",
            "INFO:tensorflow:loss = 1.3580813, step = 2000 (1.149 sec)\n",
            "INFO:tensorflow:Saving checkpoints for 2100 into /tmp/tmps8IrdL/model.ckpt.\n",
            "INFO:tensorflow:global_step/sec: 86.9604\n",
            "INFO:tensorflow:loss = 1.3730409, step = 2100 (1.152 sec)\n",
            "INFO:tensorflow:Saving checkpoints for 2200 into /tmp/tmps8IrdL/model.ckpt.\n",
            "INFO:tensorflow:global_step/sec: 91.6735\n",
            "INFO:tensorflow:loss = 1.4473813, step = 2200 (1.089 sec)\n",
            "INFO:tensorflow:Saving checkpoints for 2300 into /tmp/tmps8IrdL/model.ckpt.\n",
            "INFO:tensorflow:global_step/sec: 92.3149\n",
            "INFO:tensorflow:loss = 1.4556253, step = 2300 (1.083 sec)\n",
            "INFO:tensorflow:Saving checkpoints for 2400 into /tmp/tmps8IrdL/model.ckpt.\n",
            "INFO:tensorflow:global_step/sec: 95.4892\n",
            "INFO:tensorflow:loss = 1.8132633, step = 2400 (1.045 sec)\n",
            "INFO:tensorflow:Saving checkpoints for 2500 into /tmp/tmps8IrdL/model.ckpt.\n",
            "INFO:tensorflow:global_step/sec: 87.603\n",
            "INFO:tensorflow:loss = 1.6552794, step = 2500 (1.141 sec)\n",
            "INFO:tensorflow:Saving checkpoints for 2600 into /tmp/tmps8IrdL/model.ckpt.\n",
            "INFO:tensorflow:global_step/sec: 92.6307\n",
            "INFO:tensorflow:loss = 1.4567686, step = 2600 (1.083 sec)\n",
            "INFO:tensorflow:Saving checkpoints for 2700 into /tmp/tmps8IrdL/model.ckpt.\n",
            "INFO:tensorflow:global_step/sec: 94.9506\n",
            "INFO:tensorflow:loss = 1.3326864, step = 2700 (1.050 sec)\n",
            "INFO:tensorflow:Saving checkpoints for 2800 into /tmp/tmps8IrdL/model.ckpt.\n",
            "INFO:tensorflow:global_step/sec: 93.4578\n",
            "INFO:tensorflow:loss = 1.5339733, step = 2800 (1.072 sec)\n",
            "INFO:tensorflow:Saving checkpoints for 2900 into /tmp/tmps8IrdL/model.ckpt.\n",
            "INFO:tensorflow:global_step/sec: 101.386\n",
            "INFO:tensorflow:loss = 1.1175302, step = 2900 (0.990 sec)\n",
            "INFO:tensorflow:Saving checkpoints for 3000 into /tmp/tmps8IrdL/model.ckpt.\n",
            "INFO:tensorflow:global_step/sec: 83.1091\n",
            "INFO:tensorflow:loss = 1.3701172, step = 3000 (1.200 sec)\n",
            "INFO:tensorflow:Saving checkpoints for 3100 into /tmp/tmps8IrdL/model.ckpt.\n",
            "INFO:tensorflow:global_step/sec: 88.6843\n",
            "INFO:tensorflow:loss = 1.3665787, step = 3100 (1.128 sec)\n",
            "INFO:tensorflow:Saving checkpoints for 3200 into /tmp/tmps8IrdL/model.ckpt.\n",
            "INFO:tensorflow:global_step/sec: 89.9762\n",
            "INFO:tensorflow:loss = 1.4364753, step = 3200 (1.112 sec)\n",
            "INFO:tensorflow:Saving checkpoints for 3300 into /tmp/tmps8IrdL/model.ckpt.\n",
            "INFO:tensorflow:global_step/sec: 94.1575\n",
            "INFO:tensorflow:loss = 1.3033533, step = 3300 (1.059 sec)\n",
            "INFO:tensorflow:Saving checkpoints for 3400 into /tmp/tmps8IrdL/model.ckpt.\n",
            "INFO:tensorflow:global_step/sec: 41.7564\n",
            "INFO:tensorflow:loss = 1.3252529, step = 3400 (2.395 sec)\n",
            "INFO:tensorflow:Saving checkpoints for 3500 into /tmp/tmps8IrdL/model.ckpt.\n",
            "INFO:tensorflow:global_step/sec: 94.5134\n",
            "INFO:tensorflow:loss = 1.3448197, step = 3500 (1.056 sec)\n",
            "INFO:tensorflow:Saving checkpoints for 3600 into /tmp/tmps8IrdL/model.ckpt.\n",
            "INFO:tensorflow:global_step/sec: 94.6529\n",
            "INFO:tensorflow:loss = 1.1550571, step = 3600 (1.060 sec)\n",
            "INFO:tensorflow:Saving checkpoints for 3700 into /tmp/tmps8IrdL/model.ckpt.\n",
            "INFO:tensorflow:global_step/sec: 94.6464\n",
            "INFO:tensorflow:loss = 1.348411, step = 3700 (1.057 sec)\n",
            "INFO:tensorflow:Saving checkpoints for 3800 into /tmp/tmps8IrdL/model.ckpt.\n",
            "INFO:tensorflow:global_step/sec: 90.4653\n",
            "INFO:tensorflow:loss = 1.5460407, step = 3800 (1.104 sec)\n",
            "INFO:tensorflow:Saving checkpoints for 3900 into /tmp/tmps8IrdL/model.ckpt.\n",
            "INFO:tensorflow:global_step/sec: 93.6364\n",
            "INFO:tensorflow:loss = 1.2179849, step = 3900 (1.066 sec)\n",
            "INFO:tensorflow:Saving checkpoints for 4000 into /tmp/tmps8IrdL/model.ckpt.\n",
            "INFO:tensorflow:global_step/sec: 93.2584\n",
            "INFO:tensorflow:loss = 1.2272378, step = 4000 (1.076 sec)\n",
            "INFO:tensorflow:Saving checkpoints for 4100 into /tmp/tmps8IrdL/model.ckpt.\n",
            "INFO:tensorflow:global_step/sec: 92.3334\n",
            "INFO:tensorflow:loss = 1.167047, step = 4100 (1.083 sec)\n",
            "INFO:tensorflow:Saving checkpoints for 4200 into /tmp/tmps8IrdL/model.ckpt.\n",
            "INFO:tensorflow:global_step/sec: 85.5727\n",
            "INFO:tensorflow:loss = 1.22411, step = 4200 (1.168 sec)\n",
            "INFO:tensorflow:Saving checkpoints for 4300 into /tmp/tmps8IrdL/model.ckpt.\n",
            "INFO:tensorflow:global_step/sec: 89.5617\n",
            "INFO:tensorflow:loss = 1.1357983, step = 4300 (1.117 sec)\n",
            "INFO:tensorflow:Saving checkpoints for 4400 into /tmp/tmps8IrdL/model.ckpt.\n",
            "INFO:tensorflow:global_step/sec: 87.0812\n",
            "INFO:tensorflow:loss = 1.4330803, step = 4400 (1.150 sec)\n",
            "INFO:tensorflow:Saving checkpoints for 4500 into /tmp/tmps8IrdL/model.ckpt.\n",
            "INFO:tensorflow:Loss for final step: 1.3938613.\n"
          ],
          "name": "stdout"
        },
        {
          "output_type": "execute_result",
          "data": {
            "text/plain": [
              "SKCompat()"
            ]
          },
          "metadata": {
            "tags": []
          },
          "execution_count": 35
        }
      ]
    },
    {
      "metadata": {
        "id": "JhJkyP-g2J42",
        "colab_type": "code",
        "colab": {
          "base_uri": "https://localhost:8080/",
          "height": 119
        },
        "outputId": "69c4b241-6aa7-4dc2-f9b7-2b984fc44245"
      },
      "cell_type": "code",
      "source": [
        "y_valid_pred = dnn_clf.predict(X_valid_ft_sc)\n",
        "print(y_valid_pred.keys())\n",
        "accuracy_score(y_valid, y_valid_pred['classes'])"
      ],
      "execution_count": 36,
      "outputs": [
        {
          "output_type": "stream",
          "text": [
            "INFO:tensorflow:Graph was finalized.\n",
            "INFO:tensorflow:Restoring parameters from /tmp/tmps8IrdL/model.ckpt-4500\n",
            "INFO:tensorflow:Running local_init_op.\n",
            "INFO:tensorflow:Done running local_init_op.\n",
            "['probabilities', 'logits', 'classes']\n"
          ],
          "name": "stdout"
        },
        {
          "output_type": "execute_result",
          "data": {
            "text/plain": [
              "0.489"
            ]
          },
          "metadata": {
            "tags": []
          },
          "execution_count": 36
        }
      ]
    },
    {
      "metadata": {
        "id": "hkivd6Qc22jH",
        "colab_type": "text"
      },
      "cell_type": "markdown",
      "source": [
        "# Using Standard Scaler Scaled Dataset from here:\n"
      ]
    },
    {
      "metadata": {
        "id": "uHaSYGhi3EdF",
        "colab_type": "text"
      },
      "cell_type": "markdown",
      "source": [
        "## Learning Curve (Around 1 epoch)"
      ]
    },
    {
      "metadata": {
        "id": "2Gke4xrc3nrz",
        "colab_type": "code",
        "colab": {
          "base_uri": "https://localhost:8080/",
          "height": 10968
        },
        "outputId": "c3ee0930-5354-47f7-d1dd-b4d7eadd881f"
      },
      "cell_type": "code",
      "source": [
        "Train_size_list_1ep = []\n",
        "Train_error_list_1ep = []\n",
        "Val_error_list_1ep = []\n",
        "Train_time_list_1ep = []\n",
        "Val_time_list_1ep = []\n",
        "batch_size = 50 # fixed batch size\n",
        "lr = 0.001 # fixed learning rate\n",
        "num_epoch = 1 # total number of epoch \n",
        "\n",
        "for j in [ 0.999, 0.995, 0.99,0.985,0.98, 0.975,0.97, 0.96,0.95, 0.94, 0.9, 0.8, 0.7, 0.6, 0.5, 0.4, 0.2, 0.1, 0.001, 0]:\n",
        "\n",
        "    #### Data Saperation\n",
        "    X_train_scaled_partial, X_noneed, y_train_partial, y_noneed  = train_test_split(X_train_ft_sc, \n",
        "                                                                                    y_train, test_size = j, \n",
        "                                                                                    random_state = 26)\n",
        "    \n",
        "    print('Train_set_size:', y_train_partial.shape[0])\n",
        "    \n",
        "    Train_size_list_1ep.append(y_train_partial.shape[0])\n",
        "    \n",
        "    \n",
        "    #### Model building\n",
        "    epoch = len(X_train_scaled_partial) /batch_size # number of steps in one epoch\n",
        "  \n",
        "    config = tf.contrib.learn.RunConfig(tf_random_seed=26,\n",
        "                                   save_checkpoints_steps= 100,\n",
        "                                   model_dir=\"./models/dnn_clf_1ep/\")\n",
        "      \n",
        "    feature_columns = tf.contrib.learn.infer_real_valued_columns_from_input(X_train_scaled_partial)\n",
        "    \n",
        "    dnn_clf_1ep = tf.contrib.learn.DNNClassifier(hidden_units = [5000],\n",
        "                                          feature_columns=feature_columns,\n",
        "                                          config=config,\n",
        "                                          n_classes=num_classes,\n",
        "                                          activation_fn=tf.nn.relu,\n",
        "                                          optimizer=tf.contrib.optimizer_v2.AdagradOptimizer(learning_rate=lr),\n",
        "                                          model_dir=\"./models/dnn_clf_1ep/\",\n",
        "                                          weight_column_name=None,\n",
        "                                          dropout=None,\n",
        "                                          gradient_clip_norm=None,\n",
        "                                          enable_centered_bias=False,\n",
        "                                          feature_engineering_fn=None,\n",
        "                                          embedding_lr_multipliers=None,\n",
        "                                          input_layer_min_slice_size=None,\n",
        "                                          label_keys=None)\n",
        "    \n",
        "    dnn_clf_1ep = tf.contrib.learn.SKCompat(dnn_clf_1ep) # to be compatible with sklearn\n",
        "    \n",
        "    #### Training the model with training data\n",
        "    start=datetime.now()# Start timing training\n",
        "    \n",
        "    dnn_clf_1ep.fit(X_train_scaled_partial, y_train_partial, batch_size=batch_size, steps=num_epoch*epoch) #fit\n",
        "    \n",
        "    Train_elapse = (datetime.now()-start).total_seconds() # record timing\n",
        "    \n",
        "    Train_time_list_1ep.append(Train_elapse)# apeend training time\n",
        "    \n",
        "    y_train_partial_pred = dnn_clf_1ep.predict(X_train_scaled_partial) #return dictionary\n",
        "    \n",
        "    Train_error = 1 - accuracy_score(y_train_partial, y_train_partial_pred['classes'])# training error\n",
        "    \n",
        "    Train_error_list_1ep.append(Train_error)#append training error\n",
        "    \n",
        "    print('dnn_1_clf training time', Train_elapse)\n",
        "    print(type(y_train_partial_pred))\n",
        "    \n",
        "    \n",
        "\n",
        "    #### Validation of the trained model\n",
        "    start=datetime.now()# start timing validation prediction\n",
        "    \n",
        "    y_val_pred =  dnn_clf_1ep.predict(X_valid_ft_sc) # prediction of validation data\n",
        "    \n",
        "    Val_elapse = (datetime.now()-start).total_seconds()# record timing\n",
        "    \n",
        "    Val_time_list_1ep.append(Val_elapse)# append validation prediction time\n",
        "    \n",
        "    Val_error = 1 - accuracy_score(y_valid, y_val_pred['classes'])#validation error\n",
        "    \n",
        "    Val_error_list_1ep.append(Val_error)# append validation error\n",
        "    \n",
        "    print('Train error, Val_error',  Train_error, '/', Val_error)\n",
        "                                   \n",
        "    \n",
        "    \n",
        "    \n",
        "print(\"Train_size_list: \", Train_size_list_1ep)\n",
        "print(\"Train_error_list: \", Train_error_list_1ep)\n",
        "print(\"Val_error_list: \", Val_error_list_1ep)\n",
        "print(\"Train_time_list: \", Train_time_list_1ep)\n",
        "print(\"Val_time_list: \", Val_time_list_1ep)   "
      ],
      "execution_count": 40,
      "outputs": [
        {
          "output_type": "stream",
          "text": [
            "('Train_set_size:', 45)\n",
            "INFO:tensorflow:Using config: {'_save_checkpoints_secs': None, '_keep_checkpoint_max': 5, '_task_type': None, '_cluster_spec': <tensorflow.python.training.server_lib.ClusterSpec object at 0x7fc6bf974dd0>, '_keep_checkpoint_every_n_hours': 10000, '_session_config': None, '_tf_random_seed': 26, '_device_fn': None, '_num_worker_replicas': 0, '_task_id': 0, '_log_step_count_steps': 100, '_evaluation_master': '', '_eval_distribute': None, '_num_ps_replicas': 0, '_train_distribute': None, '_is_chief': True, '_model_dir': './models/dnn_clf_1ep/', '_protocol': None, '_save_checkpoints_steps': 100, '_environment': 'local', '_master': '', '_tf_config': gpu_options {\n",
            "  per_process_gpu_memory_fraction: 1.0\n",
            "}\n",
            ", '_save_summary_steps': 100}\n",
            "INFO:tensorflow:Create CheckpointSaverHook.\n",
            "INFO:tensorflow:Graph was finalized.\n",
            "INFO:tensorflow:Restoring parameters from ./models/dnn_clf_1ep/model.ckpt-1\n",
            "INFO:tensorflow:Running local_init_op.\n",
            "INFO:tensorflow:Done running local_init_op.\n",
            "INFO:tensorflow:Saving checkpoints for 1 into ./models/dnn_clf_1ep/model.ckpt.\n",
            "INFO:tensorflow:loss = 1.9876857, step = 1\n",
            "INFO:tensorflow:Saving checkpoints for 2 into ./models/dnn_clf_1ep/model.ckpt.\n",
            "INFO:tensorflow:Loss for final step: 1.9876857.\n",
            "INFO:tensorflow:Graph was finalized.\n",
            "INFO:tensorflow:Restoring parameters from ./models/dnn_clf_1ep/model.ckpt-2\n",
            "INFO:tensorflow:Running local_init_op.\n",
            "INFO:tensorflow:Done running local_init_op.\n",
            "('dnn_1_clf training time', 1.558785)\n",
            "<type 'dict'>\n",
            "INFO:tensorflow:Graph was finalized.\n",
            "INFO:tensorflow:Restoring parameters from ./models/dnn_clf_1ep/model.ckpt-2\n",
            "INFO:tensorflow:Running local_init_op.\n",
            "INFO:tensorflow:Done running local_init_op.\n",
            "('Train error, Val_error', 0.6, '/', 0.8488)\n",
            "('Train_set_size:', 225)\n",
            "INFO:tensorflow:Using config: {'_save_checkpoints_secs': None, '_keep_checkpoint_max': 5, '_task_type': None, '_cluster_spec': <tensorflow.python.training.server_lib.ClusterSpec object at 0x7fc6bba89e90>, '_keep_checkpoint_every_n_hours': 10000, '_session_config': None, '_tf_random_seed': 26, '_device_fn': None, '_num_worker_replicas': 0, '_task_id': 0, '_log_step_count_steps': 100, '_evaluation_master': '', '_eval_distribute': None, '_num_ps_replicas': 0, '_train_distribute': None, '_is_chief': True, '_model_dir': './models/dnn_clf_1ep/', '_protocol': None, '_save_checkpoints_steps': 100, '_environment': 'local', '_master': '', '_tf_config': gpu_options {\n",
            "  per_process_gpu_memory_fraction: 1.0\n",
            "}\n",
            ", '_save_summary_steps': 100}\n",
            "INFO:tensorflow:Create CheckpointSaverHook.\n",
            "INFO:tensorflow:Graph was finalized.\n",
            "INFO:tensorflow:Restoring parameters from ./models/dnn_clf_1ep/model.ckpt-2\n",
            "INFO:tensorflow:Running local_init_op.\n",
            "INFO:tensorflow:Done running local_init_op.\n",
            "INFO:tensorflow:Saving checkpoints for 2 into ./models/dnn_clf_1ep/model.ckpt.\n",
            "INFO:tensorflow:loss = 2.2500308, step = 2\n",
            "INFO:tensorflow:Saving checkpoints for 6 into ./models/dnn_clf_1ep/model.ckpt.\n",
            "INFO:tensorflow:Loss for final step: 2.1159027.\n",
            "INFO:tensorflow:Graph was finalized.\n",
            "INFO:tensorflow:Restoring parameters from ./models/dnn_clf_1ep/model.ckpt-6\n",
            "INFO:tensorflow:Running local_init_op.\n",
            "INFO:tensorflow:Done running local_init_op.\n",
            "('dnn_1_clf training time', 1.660703)\n",
            "<type 'dict'>\n",
            "INFO:tensorflow:Graph was finalized.\n",
            "INFO:tensorflow:Restoring parameters from ./models/dnn_clf_1ep/model.ckpt-6\n",
            "INFO:tensorflow:Running local_init_op.\n",
            "INFO:tensorflow:Done running local_init_op.\n",
            "('Train error, Val_error', 0.6844444444444444, '/', 0.8291999999999999)\n",
            "('Train_set_size:', 450)\n",
            "INFO:tensorflow:Using config: {'_save_checkpoints_secs': None, '_keep_checkpoint_max': 5, '_task_type': None, '_cluster_spec': <tensorflow.python.training.server_lib.ClusterSpec object at 0x7fc6b9ab5350>, '_keep_checkpoint_every_n_hours': 10000, '_session_config': None, '_tf_random_seed': 26, '_device_fn': None, '_num_worker_replicas': 0, '_task_id': 0, '_log_step_count_steps': 100, '_evaluation_master': '', '_eval_distribute': None, '_num_ps_replicas': 0, '_train_distribute': None, '_is_chief': True, '_model_dir': './models/dnn_clf_1ep/', '_protocol': None, '_save_checkpoints_steps': 100, '_environment': 'local', '_master': '', '_tf_config': gpu_options {\n",
            "  per_process_gpu_memory_fraction: 1.0\n",
            "}\n",
            ", '_save_summary_steps': 100}\n",
            "INFO:tensorflow:Create CheckpointSaverHook.\n",
            "INFO:tensorflow:Graph was finalized.\n",
            "INFO:tensorflow:Restoring parameters from ./models/dnn_clf_1ep/model.ckpt-6\n",
            "INFO:tensorflow:Running local_init_op.\n",
            "INFO:tensorflow:Done running local_init_op.\n",
            "INFO:tensorflow:Saving checkpoints for 6 into ./models/dnn_clf_1ep/model.ckpt.\n",
            "INFO:tensorflow:loss = 2.0540879, step = 6\n",
            "INFO:tensorflow:Saving checkpoints for 15 into ./models/dnn_clf_1ep/model.ckpt.\n",
            "INFO:tensorflow:Loss for final step: 1.8847144.\n",
            "INFO:tensorflow:Graph was finalized.\n",
            "INFO:tensorflow:Restoring parameters from ./models/dnn_clf_1ep/model.ckpt-15\n",
            "INFO:tensorflow:Running local_init_op.\n",
            "INFO:tensorflow:Done running local_init_op.\n",
            "('dnn_1_clf training time', 1.542093)\n",
            "<type 'dict'>\n",
            "INFO:tensorflow:Graph was finalized.\n",
            "INFO:tensorflow:Restoring parameters from ./models/dnn_clf_1ep/model.ckpt-15\n",
            "INFO:tensorflow:Running local_init_op.\n",
            "INFO:tensorflow:Done running local_init_op.\n",
            "('Train error, Val_error', 0.6111111111111112, '/', 0.7852)\n",
            "('Train_set_size:', 675)\n",
            "INFO:tensorflow:Using config: {'_save_checkpoints_secs': None, '_keep_checkpoint_max': 5, '_task_type': None, '_cluster_spec': <tensorflow.python.training.server_lib.ClusterSpec object at 0x7fc6b9ee8690>, '_keep_checkpoint_every_n_hours': 10000, '_session_config': None, '_tf_random_seed': 26, '_device_fn': None, '_num_worker_replicas': 0, '_task_id': 0, '_log_step_count_steps': 100, '_evaluation_master': '', '_eval_distribute': None, '_num_ps_replicas': 0, '_train_distribute': None, '_is_chief': True, '_model_dir': './models/dnn_clf_1ep/', '_protocol': None, '_save_checkpoints_steps': 100, '_environment': 'local', '_master': '', '_tf_config': gpu_options {\n",
            "  per_process_gpu_memory_fraction: 1.0\n",
            "}\n",
            ", '_save_summary_steps': 100}\n",
            "INFO:tensorflow:Create CheckpointSaverHook.\n",
            "INFO:tensorflow:Graph was finalized.\n",
            "INFO:tensorflow:Restoring parameters from ./models/dnn_clf_1ep/model.ckpt-15\n",
            "INFO:tensorflow:Running local_init_op.\n",
            "INFO:tensorflow:Done running local_init_op.\n",
            "INFO:tensorflow:Saving checkpoints for 15 into ./models/dnn_clf_1ep/model.ckpt.\n",
            "INFO:tensorflow:loss = 1.9808999, step = 15\n",
            "INFO:tensorflow:Saving checkpoints for 28 into ./models/dnn_clf_1ep/model.ckpt.\n",
            "INFO:tensorflow:Loss for final step: 1.8049402.\n",
            "INFO:tensorflow:Graph was finalized.\n",
            "INFO:tensorflow:Restoring parameters from ./models/dnn_clf_1ep/model.ckpt-28\n",
            "INFO:tensorflow:Running local_init_op.\n",
            "INFO:tensorflow:Done running local_init_op.\n",
            "('dnn_1_clf training time', 1.602687)\n",
            "<type 'dict'>\n",
            "INFO:tensorflow:Graph was finalized.\n",
            "INFO:tensorflow:Restoring parameters from ./models/dnn_clf_1ep/model.ckpt-28\n",
            "INFO:tensorflow:Running local_init_op.\n",
            "INFO:tensorflow:Done running local_init_op.\n",
            "('Train error, Val_error', 0.56, '/', 0.747)\n",
            "('Train_set_size:', 900)\n",
            "INFO:tensorflow:Using config: {'_save_checkpoints_secs': None, '_keep_checkpoint_max': 5, '_task_type': None, '_cluster_spec': <tensorflow.python.training.server_lib.ClusterSpec object at 0x7fc6bbba4f50>, '_keep_checkpoint_every_n_hours': 10000, '_session_config': None, '_tf_random_seed': 26, '_device_fn': None, '_num_worker_replicas': 0, '_task_id': 0, '_log_step_count_steps': 100, '_evaluation_master': '', '_eval_distribute': None, '_num_ps_replicas': 0, '_train_distribute': None, '_is_chief': True, '_model_dir': './models/dnn_clf_1ep/', '_protocol': None, '_save_checkpoints_steps': 100, '_environment': 'local', '_master': '', '_tf_config': gpu_options {\n",
            "  per_process_gpu_memory_fraction: 1.0\n",
            "}\n",
            ", '_save_summary_steps': 100}\n",
            "INFO:tensorflow:Create CheckpointSaverHook.\n",
            "INFO:tensorflow:Graph was finalized.\n",
            "INFO:tensorflow:Restoring parameters from ./models/dnn_clf_1ep/model.ckpt-28\n",
            "INFO:tensorflow:Running local_init_op.\n",
            "INFO:tensorflow:Done running local_init_op.\n",
            "INFO:tensorflow:Saving checkpoints for 28 into ./models/dnn_clf_1ep/model.ckpt.\n",
            "INFO:tensorflow:loss = 1.8866855, step = 28\n",
            "INFO:tensorflow:Saving checkpoints for 46 into ./models/dnn_clf_1ep/model.ckpt.\n",
            "INFO:tensorflow:Loss for final step: 1.8233014.\n",
            "INFO:tensorflow:Graph was finalized.\n",
            "INFO:tensorflow:Restoring parameters from ./models/dnn_clf_1ep/model.ckpt-46\n",
            "INFO:tensorflow:Running local_init_op.\n",
            "INFO:tensorflow:Done running local_init_op.\n",
            "('dnn_1_clf training time', 1.869657)\n",
            "<type 'dict'>\n",
            "INFO:tensorflow:Graph was finalized.\n",
            "INFO:tensorflow:Restoring parameters from ./models/dnn_clf_1ep/model.ckpt-46\n",
            "INFO:tensorflow:Running local_init_op.\n",
            "INFO:tensorflow:Done running local_init_op.\n",
            "('Train error, Val_error', 0.5344444444444445, '/', 0.7188)\n",
            "('Train_set_size:', 1125)\n",
            "INFO:tensorflow:Using config: {'_save_checkpoints_secs': None, '_keep_checkpoint_max': 5, '_task_type': None, '_cluster_spec': <tensorflow.python.training.server_lib.ClusterSpec object at 0x7fc6b9ed0250>, '_keep_checkpoint_every_n_hours': 10000, '_session_config': None, '_tf_random_seed': 26, '_device_fn': None, '_num_worker_replicas': 0, '_task_id': 0, '_log_step_count_steps': 100, '_evaluation_master': '', '_eval_distribute': None, '_num_ps_replicas': 0, '_train_distribute': None, '_is_chief': True, '_model_dir': './models/dnn_clf_1ep/', '_protocol': None, '_save_checkpoints_steps': 100, '_environment': 'local', '_master': '', '_tf_config': gpu_options {\n",
            "  per_process_gpu_memory_fraction: 1.0\n",
            "}\n",
            ", '_save_summary_steps': 100}\n",
            "INFO:tensorflow:Create CheckpointSaverHook.\n",
            "INFO:tensorflow:Graph was finalized.\n",
            "INFO:tensorflow:Restoring parameters from ./models/dnn_clf_1ep/model.ckpt-46\n",
            "INFO:tensorflow:Running local_init_op.\n",
            "INFO:tensorflow:Done running local_init_op.\n",
            "INFO:tensorflow:Saving checkpoints for 46 into ./models/dnn_clf_1ep/model.ckpt.\n",
            "INFO:tensorflow:loss = 1.5828257, step = 46\n",
            "INFO:tensorflow:Saving checkpoints for 68 into ./models/dnn_clf_1ep/model.ckpt.\n",
            "INFO:tensorflow:Loss for final step: 1.8381876.\n",
            "INFO:tensorflow:Graph was finalized.\n",
            "INFO:tensorflow:Restoring parameters from ./models/dnn_clf_1ep/model.ckpt-68\n",
            "INFO:tensorflow:Running local_init_op.\n",
            "INFO:tensorflow:Done running local_init_op.\n",
            "('dnn_1_clf training time', 1.674526)\n",
            "<type 'dict'>\n",
            "INFO:tensorflow:Graph was finalized.\n",
            "INFO:tensorflow:Restoring parameters from ./models/dnn_clf_1ep/model.ckpt-68\n",
            "INFO:tensorflow:Running local_init_op.\n",
            "INFO:tensorflow:Done running local_init_op.\n",
            "('Train error, Val_error', 0.4835555555555555, '/', 0.6988)\n",
            "('Train_set_size:', 1350)\n",
            "INFO:tensorflow:Using config: {'_save_checkpoints_secs': None, '_keep_checkpoint_max': 5, '_task_type': None, '_cluster_spec': <tensorflow.python.training.server_lib.ClusterSpec object at 0x7fc6b9e59110>, '_keep_checkpoint_every_n_hours': 10000, '_session_config': None, '_tf_random_seed': 26, '_device_fn': None, '_num_worker_replicas': 0, '_task_id': 0, '_log_step_count_steps': 100, '_evaluation_master': '', '_eval_distribute': None, '_num_ps_replicas': 0, '_train_distribute': None, '_is_chief': True, '_model_dir': './models/dnn_clf_1ep/', '_protocol': None, '_save_checkpoints_steps': 100, '_environment': 'local', '_master': '', '_tf_config': gpu_options {\n",
            "  per_process_gpu_memory_fraction: 1.0\n",
            "}\n",
            ", '_save_summary_steps': 100}\n",
            "INFO:tensorflow:Create CheckpointSaverHook.\n",
            "INFO:tensorflow:Graph was finalized.\n",
            "INFO:tensorflow:Restoring parameters from ./models/dnn_clf_1ep/model.ckpt-68\n",
            "INFO:tensorflow:Running local_init_op.\n",
            "INFO:tensorflow:Done running local_init_op.\n",
            "INFO:tensorflow:Saving checkpoints for 68 into ./models/dnn_clf_1ep/model.ckpt.\n",
            "INFO:tensorflow:loss = 1.7520728, step = 68\n",
            "INFO:tensorflow:Saving checkpoints for 95 into ./models/dnn_clf_1ep/model.ckpt.\n",
            "INFO:tensorflow:Loss for final step: 1.6312661.\n",
            "INFO:tensorflow:Graph was finalized.\n",
            "INFO:tensorflow:Restoring parameters from ./models/dnn_clf_1ep/model.ckpt-95\n",
            "INFO:tensorflow:Running local_init_op.\n",
            "INFO:tensorflow:Done running local_init_op.\n",
            "('dnn_1_clf training time', 1.55662)\n",
            "<type 'dict'>\n",
            "INFO:tensorflow:Graph was finalized.\n",
            "INFO:tensorflow:Restoring parameters from ./models/dnn_clf_1ep/model.ckpt-95\n",
            "INFO:tensorflow:Running local_init_op.\n",
            "INFO:tensorflow:Done running local_init_op.\n",
            "('Train error, Val_error', 0.4688888888888889, '/', 0.6794)\n",
            "('Train_set_size:', 1800)\n",
            "INFO:tensorflow:Using config: {'_save_checkpoints_secs': None, '_keep_checkpoint_max': 5, '_task_type': None, '_cluster_spec': <tensorflow.python.training.server_lib.ClusterSpec object at 0x7fc6bbe85e50>, '_keep_checkpoint_every_n_hours': 10000, '_session_config': None, '_tf_random_seed': 26, '_device_fn': None, '_num_worker_replicas': 0, '_task_id': 0, '_log_step_count_steps': 100, '_evaluation_master': '', '_eval_distribute': None, '_num_ps_replicas': 0, '_train_distribute': None, '_is_chief': True, '_model_dir': './models/dnn_clf_1ep/', '_protocol': None, '_save_checkpoints_steps': 100, '_environment': 'local', '_master': '', '_tf_config': gpu_options {\n",
            "  per_process_gpu_memory_fraction: 1.0\n",
            "}\n",
            ", '_save_summary_steps': 100}\n",
            "INFO:tensorflow:Create CheckpointSaverHook.\n",
            "INFO:tensorflow:Graph was finalized.\n",
            "INFO:tensorflow:Restoring parameters from ./models/dnn_clf_1ep/model.ckpt-95\n",
            "INFO:tensorflow:Running local_init_op.\n",
            "INFO:tensorflow:Done running local_init_op.\n",
            "INFO:tensorflow:Saving checkpoints for 95 into ./models/dnn_clf_1ep/model.ckpt.\n",
            "INFO:tensorflow:loss = 1.6505437, step = 95\n",
            "INFO:tensorflow:Saving checkpoints for 131 into ./models/dnn_clf_1ep/model.ckpt.\n",
            "INFO:tensorflow:Loss for final step: 1.6138574.\n",
            "INFO:tensorflow:Graph was finalized.\n",
            "INFO:tensorflow:Restoring parameters from ./models/dnn_clf_1ep/model.ckpt-131\n",
            "INFO:tensorflow:Running local_init_op.\n",
            "INFO:tensorflow:Done running local_init_op.\n",
            "('dnn_1_clf training time', 1.713476)\n",
            "<type 'dict'>\n",
            "INFO:tensorflow:Graph was finalized.\n",
            "INFO:tensorflow:Restoring parameters from ./models/dnn_clf_1ep/model.ckpt-131\n",
            "INFO:tensorflow:Running local_init_op.\n",
            "INFO:tensorflow:Done running local_init_op.\n",
            "('Train error, Val_error', 0.4705555555555555, '/', 0.6586000000000001)\n",
            "('Train_set_size:', 2250)\n",
            "INFO:tensorflow:Using config: {'_save_checkpoints_secs': None, '_keep_checkpoint_max': 5, '_task_type': None, '_cluster_spec': <tensorflow.python.training.server_lib.ClusterSpec object at 0x7fc6bbf214d0>, '_keep_checkpoint_every_n_hours': 10000, '_session_config': None, '_tf_random_seed': 26, '_device_fn': None, '_num_worker_replicas': 0, '_task_id': 0, '_log_step_count_steps': 100, '_evaluation_master': '', '_eval_distribute': None, '_num_ps_replicas': 0, '_train_distribute': None, '_is_chief': True, '_model_dir': './models/dnn_clf_1ep/', '_protocol': None, '_save_checkpoints_steps': 100, '_environment': 'local', '_master': '', '_tf_config': gpu_options {\n",
            "  per_process_gpu_memory_fraction: 1.0\n",
            "}\n",
            ", '_save_summary_steps': 100}\n",
            "INFO:tensorflow:Create CheckpointSaverHook.\n",
            "INFO:tensorflow:Graph was finalized.\n",
            "INFO:tensorflow:Restoring parameters from ./models/dnn_clf_1ep/model.ckpt-131\n",
            "INFO:tensorflow:Running local_init_op.\n",
            "INFO:tensorflow:Done running local_init_op.\n",
            "INFO:tensorflow:Saving checkpoints for 131 into ./models/dnn_clf_1ep/model.ckpt.\n",
            "INFO:tensorflow:loss = 1.4003438, step = 131\n",
            "INFO:tensorflow:Saving checkpoints for 176 into ./models/dnn_clf_1ep/model.ckpt.\n",
            "INFO:tensorflow:Loss for final step: 1.4852073.\n",
            "INFO:tensorflow:Graph was finalized.\n",
            "INFO:tensorflow:Restoring parameters from ./models/dnn_clf_1ep/model.ckpt-176\n",
            "INFO:tensorflow:Running local_init_op.\n",
            "INFO:tensorflow:Done running local_init_op.\n",
            "('dnn_1_clf training time', 1.98459)\n",
            "<type 'dict'>\n",
            "INFO:tensorflow:Graph was finalized.\n",
            "INFO:tensorflow:Restoring parameters from ./models/dnn_clf_1ep/model.ckpt-176\n",
            "INFO:tensorflow:Running local_init_op.\n",
            "INFO:tensorflow:Done running local_init_op.\n",
            "('Train error, Val_error', 0.46266666666666667, '/', 0.6436)\n",
            "('Train_set_size:', 2700)\n",
            "INFO:tensorflow:Using config: {'_save_checkpoints_secs': None, '_keep_checkpoint_max': 5, '_task_type': None, '_cluster_spec': <tensorflow.python.training.server_lib.ClusterSpec object at 0x7fc6bbb95310>, '_keep_checkpoint_every_n_hours': 10000, '_session_config': None, '_tf_random_seed': 26, '_device_fn': None, '_num_worker_replicas': 0, '_task_id': 0, '_log_step_count_steps': 100, '_evaluation_master': '', '_eval_distribute': None, '_num_ps_replicas': 0, '_train_distribute': None, '_is_chief': True, '_model_dir': './models/dnn_clf_1ep/', '_protocol': None, '_save_checkpoints_steps': 100, '_environment': 'local', '_master': '', '_tf_config': gpu_options {\n",
            "  per_process_gpu_memory_fraction: 1.0\n",
            "}\n",
            ", '_save_summary_steps': 100}\n",
            "INFO:tensorflow:Create CheckpointSaverHook.\n",
            "INFO:tensorflow:Graph was finalized.\n",
            "INFO:tensorflow:Restoring parameters from ./models/dnn_clf_1ep/model.ckpt-176\n",
            "INFO:tensorflow:Running local_init_op.\n",
            "INFO:tensorflow:Done running local_init_op.\n",
            "INFO:tensorflow:Saving checkpoints for 176 into ./models/dnn_clf_1ep/model.ckpt.\n",
            "INFO:tensorflow:loss = 1.385017, step = 176\n",
            "INFO:tensorflow:Saving checkpoints for 230 into ./models/dnn_clf_1ep/model.ckpt.\n",
            "INFO:tensorflow:Loss for final step: 1.5411453.\n",
            "INFO:tensorflow:Graph was finalized.\n",
            "INFO:tensorflow:Restoring parameters from ./models/dnn_clf_1ep/model.ckpt-230\n",
            "INFO:tensorflow:Running local_init_op.\n",
            "INFO:tensorflow:Done running local_init_op.\n",
            "('dnn_1_clf training time', 2.094456)\n",
            "<type 'dict'>\n",
            "INFO:tensorflow:Graph was finalized.\n",
            "INFO:tensorflow:Restoring parameters from ./models/dnn_clf_1ep/model.ckpt-230\n",
            "INFO:tensorflow:Running local_init_op.\n",
            "INFO:tensorflow:Done running local_init_op.\n",
            "('Train error, Val_error', 0.44925925925925925, '/', 0.6402)\n",
            "('Train_set_size:', 4500)\n",
            "INFO:tensorflow:Using config: {'_save_checkpoints_secs': None, '_keep_checkpoint_max': 5, '_task_type': None, '_cluster_spec': <tensorflow.python.training.server_lib.ClusterSpec object at 0x7fc6bbeb9710>, '_keep_checkpoint_every_n_hours': 10000, '_session_config': None, '_tf_random_seed': 26, '_device_fn': None, '_num_worker_replicas': 0, '_task_id': 0, '_log_step_count_steps': 100, '_evaluation_master': '', '_eval_distribute': None, '_num_ps_replicas': 0, '_train_distribute': None, '_is_chief': True, '_model_dir': './models/dnn_clf_1ep/', '_protocol': None, '_save_checkpoints_steps': 100, '_environment': 'local', '_master': '', '_tf_config': gpu_options {\n",
            "  per_process_gpu_memory_fraction: 1.0\n",
            "}\n",
            ", '_save_summary_steps': 100}\n",
            "INFO:tensorflow:Create CheckpointSaverHook.\n",
            "INFO:tensorflow:Graph was finalized.\n",
            "INFO:tensorflow:Restoring parameters from ./models/dnn_clf_1ep/model.ckpt-230\n",
            "INFO:tensorflow:Running local_init_op.\n",
            "INFO:tensorflow:Done running local_init_op.\n",
            "INFO:tensorflow:Saving checkpoints for 230 into ./models/dnn_clf_1ep/model.ckpt.\n",
            "INFO:tensorflow:loss = 1.444277, step = 230\n",
            "INFO:tensorflow:Saving checkpoints for 320 into ./models/dnn_clf_1ep/model.ckpt.\n",
            "INFO:tensorflow:Loss for final step: 1.6466638.\n",
            "INFO:tensorflow:Graph was finalized.\n",
            "INFO:tensorflow:Restoring parameters from ./models/dnn_clf_1ep/model.ckpt-320\n",
            "INFO:tensorflow:Running local_init_op.\n",
            "INFO:tensorflow:Done running local_init_op.\n",
            "('dnn_1_clf training time', 2.237637)\n",
            "<type 'dict'>\n",
            "INFO:tensorflow:Graph was finalized.\n",
            "INFO:tensorflow:Restoring parameters from ./models/dnn_clf_1ep/model.ckpt-320\n",
            "INFO:tensorflow:Running local_init_op.\n",
            "INFO:tensorflow:Done running local_init_op.\n",
            "('Train error, Val_error', 0.48711111111111116, '/', 0.6115999999999999)\n",
            "('Train_set_size:', 9000)\n",
            "INFO:tensorflow:Using config: {'_save_checkpoints_secs': None, '_keep_checkpoint_max': 5, '_task_type': None, '_cluster_spec': <tensorflow.python.training.server_lib.ClusterSpec object at 0x7fc6bbea37d0>, '_keep_checkpoint_every_n_hours': 10000, '_session_config': None, '_tf_random_seed': 26, '_device_fn': None, '_num_worker_replicas': 0, '_task_id': 0, '_log_step_count_steps': 100, '_evaluation_master': '', '_eval_distribute': None, '_num_ps_replicas': 0, '_train_distribute': None, '_is_chief': True, '_model_dir': './models/dnn_clf_1ep/', '_protocol': None, '_save_checkpoints_steps': 100, '_environment': 'local', '_master': '', '_tf_config': gpu_options {\n",
            "  per_process_gpu_memory_fraction: 1.0\n",
            "}\n",
            ", '_save_summary_steps': 100}\n",
            "INFO:tensorflow:Create CheckpointSaverHook.\n",
            "INFO:tensorflow:Graph was finalized.\n",
            "INFO:tensorflow:Restoring parameters from ./models/dnn_clf_1ep/model.ckpt-320\n",
            "INFO:tensorflow:Running local_init_op.\n",
            "INFO:tensorflow:Done running local_init_op.\n",
            "INFO:tensorflow:Saving checkpoints for 320 into ./models/dnn_clf_1ep/model.ckpt.\n",
            "INFO:tensorflow:loss = 1.6731534, step = 320\n",
            "INFO:tensorflow:Saving checkpoints for 420 into ./models/dnn_clf_1ep/model.ckpt.\n",
            "INFO:tensorflow:global_step/sec: 95.9157\n",
            "INFO:tensorflow:loss = 1.6091084, step = 420 (1.049 sec)\n",
            "INFO:tensorflow:Saving checkpoints for 500 into ./models/dnn_clf_1ep/model.ckpt.\n",
            "INFO:tensorflow:Loss for final step: 1.8143609.\n",
            "INFO:tensorflow:Graph was finalized.\n",
            "INFO:tensorflow:Restoring parameters from ./models/dnn_clf_1ep/model.ckpt-500\n",
            "INFO:tensorflow:Running local_init_op.\n",
            "INFO:tensorflow:Done running local_init_op.\n",
            "('dnn_1_clf training time', 2.894557)\n",
            "<type 'dict'>\n",
            "INFO:tensorflow:Graph was finalized.\n",
            "INFO:tensorflow:Restoring parameters from ./models/dnn_clf_1ep/model.ckpt-500\n",
            "INFO:tensorflow:Running local_init_op.\n",
            "INFO:tensorflow:Done running local_init_op.\n",
            "('Train error, Val_error', 0.5012222222222222, '/', 0.5888)\n",
            "('Train_set_size:', 13500)\n",
            "INFO:tensorflow:Using config: {'_save_checkpoints_secs': None, '_keep_checkpoint_max': 5, '_task_type': None, '_cluster_spec': <tensorflow.python.training.server_lib.ClusterSpec object at 0x7fc6bb8b47d0>, '_keep_checkpoint_every_n_hours': 10000, '_session_config': None, '_tf_random_seed': 26, '_device_fn': None, '_num_worker_replicas': 0, '_task_id': 0, '_log_step_count_steps': 100, '_evaluation_master': '', '_eval_distribute': None, '_num_ps_replicas': 0, '_train_distribute': None, '_is_chief': True, '_model_dir': './models/dnn_clf_1ep/', '_protocol': None, '_save_checkpoints_steps': 100, '_environment': 'local', '_master': '', '_tf_config': gpu_options {\n",
            "  per_process_gpu_memory_fraction: 1.0\n",
            "}\n",
            ", '_save_summary_steps': 100}\n",
            "INFO:tensorflow:Create CheckpointSaverHook.\n",
            "INFO:tensorflow:Graph was finalized.\n",
            "INFO:tensorflow:Restoring parameters from ./models/dnn_clf_1ep/model.ckpt-500\n",
            "INFO:tensorflow:Running local_init_op.\n",
            "INFO:tensorflow:Done running local_init_op.\n",
            "INFO:tensorflow:Saving checkpoints for 500 into ./models/dnn_clf_1ep/model.ckpt.\n",
            "INFO:tensorflow:loss = 1.2358468, step = 500\n",
            "INFO:tensorflow:Saving checkpoints for 600 into ./models/dnn_clf_1ep/model.ckpt.\n",
            "INFO:tensorflow:global_step/sec: 90.3219\n",
            "INFO:tensorflow:loss = 1.6464194, step = 600 (1.110 sec)\n",
            "INFO:tensorflow:Saving checkpoints for 700 into ./models/dnn_clf_1ep/model.ckpt.\n",
            "INFO:tensorflow:global_step/sec: 98.0458\n",
            "INFO:tensorflow:loss = 1.684439, step = 700 (1.020 sec)\n",
            "INFO:tensorflow:Saving checkpoints for 770 into ./models/dnn_clf_1ep/model.ckpt.\n",
            "INFO:tensorflow:Loss for final step: 1.9019276.\n",
            "INFO:tensorflow:Graph was finalized.\n",
            "INFO:tensorflow:Restoring parameters from ./models/dnn_clf_1ep/model.ckpt-770\n",
            "INFO:tensorflow:Running local_init_op.\n",
            "INFO:tensorflow:Done running local_init_op.\n",
            "('dnn_1_clf training time', 4.254566)\n",
            "<type 'dict'>\n",
            "INFO:tensorflow:Graph was finalized.\n",
            "INFO:tensorflow:Restoring parameters from ./models/dnn_clf_1ep/model.ckpt-770\n",
            "INFO:tensorflow:Running local_init_op.\n",
            "INFO:tensorflow:Done running local_init_op.\n",
            "('Train error, Val_error', 0.48918518518518517, '/', 0.5778)\n",
            "('Train_set_size:', 18000)\n",
            "INFO:tensorflow:Using config: {'_save_checkpoints_secs': None, '_keep_checkpoint_max': 5, '_task_type': None, '_cluster_spec': <tensorflow.python.training.server_lib.ClusterSpec object at 0x7fc6b9caaed0>, '_keep_checkpoint_every_n_hours': 10000, '_session_config': None, '_tf_random_seed': 26, '_device_fn': None, '_num_worker_replicas': 0, '_task_id': 0, '_log_step_count_steps': 100, '_evaluation_master': '', '_eval_distribute': None, '_num_ps_replicas': 0, '_train_distribute': None, '_is_chief': True, '_model_dir': './models/dnn_clf_1ep/', '_protocol': None, '_save_checkpoints_steps': 100, '_environment': 'local', '_master': '', '_tf_config': gpu_options {\n",
            "  per_process_gpu_memory_fraction: 1.0\n",
            "}\n",
            ", '_save_summary_steps': 100}\n",
            "INFO:tensorflow:Create CheckpointSaverHook.\n",
            "INFO:tensorflow:Graph was finalized.\n",
            "INFO:tensorflow:Restoring parameters from ./models/dnn_clf_1ep/model.ckpt-770\n",
            "INFO:tensorflow:Running local_init_op.\n",
            "INFO:tensorflow:Done running local_init_op.\n",
            "INFO:tensorflow:Saving checkpoints for 770 into ./models/dnn_clf_1ep/model.ckpt.\n",
            "INFO:tensorflow:loss = 1.7833389, step = 770\n",
            "INFO:tensorflow:Saving checkpoints for 870 into ./models/dnn_clf_1ep/model.ckpt.\n",
            "INFO:tensorflow:global_step/sec: 96.5339\n",
            "INFO:tensorflow:loss = 1.485854, step = 870 (1.042 sec)\n",
            "INFO:tensorflow:Saving checkpoints for 970 into ./models/dnn_clf_1ep/model.ckpt.\n",
            "INFO:tensorflow:global_step/sec: 96.8201\n",
            "INFO:tensorflow:loss = 1.6818368, step = 970 (1.033 sec)\n",
            "INFO:tensorflow:Saving checkpoints for 1070 into ./models/dnn_clf_1ep/model.ckpt.\n",
            "INFO:tensorflow:global_step/sec: 98.9527\n",
            "INFO:tensorflow:loss = 1.3496994, step = 1070 (1.008 sec)\n",
            "INFO:tensorflow:Saving checkpoints for 1130 into ./models/dnn_clf_1ep/model.ckpt.\n",
            "INFO:tensorflow:Loss for final step: 1.5488381.\n",
            "INFO:tensorflow:Graph was finalized.\n",
            "INFO:tensorflow:Restoring parameters from ./models/dnn_clf_1ep/model.ckpt-1130\n",
            "INFO:tensorflow:Running local_init_op.\n",
            "INFO:tensorflow:Done running local_init_op.\n",
            "('dnn_1_clf training time', 4.842997)\n",
            "<type 'dict'>\n",
            "INFO:tensorflow:Graph was finalized.\n",
            "INFO:tensorflow:Restoring parameters from ./models/dnn_clf_1ep/model.ckpt-1130\n",
            "INFO:tensorflow:Running local_init_op.\n",
            "INFO:tensorflow:Done running local_init_op.\n",
            "('Train error, Val_error', 0.47477777777777774, '/', 0.5576)\n",
            "('Train_set_size:', 22500)\n",
            "INFO:tensorflow:Using config: {'_save_checkpoints_secs': None, '_keep_checkpoint_max': 5, '_task_type': None, '_cluster_spec': <tensorflow.python.training.server_lib.ClusterSpec object at 0x7fc6bbeeb1d0>, '_keep_checkpoint_every_n_hours': 10000, '_session_config': None, '_tf_random_seed': 26, '_device_fn': None, '_num_worker_replicas': 0, '_task_id': 0, '_log_step_count_steps': 100, '_evaluation_master': '', '_eval_distribute': None, '_num_ps_replicas': 0, '_train_distribute': None, '_is_chief': True, '_model_dir': './models/dnn_clf_1ep/', '_protocol': None, '_save_checkpoints_steps': 100, '_environment': 'local', '_master': '', '_tf_config': gpu_options {\n",
            "  per_process_gpu_memory_fraction: 1.0\n",
            "}\n",
            ", '_save_summary_steps': 100}\n",
            "INFO:tensorflow:Create CheckpointSaverHook.\n",
            "INFO:tensorflow:Graph was finalized.\n",
            "INFO:tensorflow:Restoring parameters from ./models/dnn_clf_1ep/model.ckpt-1130\n",
            "INFO:tensorflow:Running local_init_op.\n",
            "INFO:tensorflow:Done running local_init_op.\n",
            "INFO:tensorflow:Saving checkpoints for 1130 into ./models/dnn_clf_1ep/model.ckpt.\n",
            "INFO:tensorflow:loss = 1.4618964, step = 1130\n",
            "INFO:tensorflow:Saving checkpoints for 1230 into ./models/dnn_clf_1ep/model.ckpt.\n",
            "INFO:tensorflow:global_step/sec: 97.2768\n",
            "INFO:tensorflow:loss = 1.5582907, step = 1230 (1.032 sec)\n",
            "INFO:tensorflow:Saving checkpoints for 1330 into ./models/dnn_clf_1ep/model.ckpt.\n",
            "INFO:tensorflow:global_step/sec: 90.1612\n",
            "INFO:tensorflow:loss = 1.3145173, step = 1330 (1.110 sec)\n",
            "INFO:tensorflow:Saving checkpoints for 1430 into ./models/dnn_clf_1ep/model.ckpt.\n",
            "INFO:tensorflow:global_step/sec: 97.5549\n",
            "INFO:tensorflow:loss = 1.4881256, step = 1430 (1.025 sec)\n",
            "INFO:tensorflow:Saving checkpoints for 1530 into ./models/dnn_clf_1ep/model.ckpt.\n",
            "INFO:tensorflow:global_step/sec: 87.2625\n",
            "INFO:tensorflow:loss = 1.5564454, step = 1530 (1.148 sec)\n",
            "INFO:tensorflow:Saving checkpoints for 1580 into ./models/dnn_clf_1ep/model.ckpt.\n",
            "INFO:tensorflow:Loss for final step: 1.3198807.\n",
            "INFO:tensorflow:Graph was finalized.\n",
            "INFO:tensorflow:Restoring parameters from ./models/dnn_clf_1ep/model.ckpt-1580\n",
            "INFO:tensorflow:Running local_init_op.\n",
            "INFO:tensorflow:Done running local_init_op.\n",
            "('dnn_1_clf training time', 6.297323)\n",
            "<type 'dict'>\n",
            "INFO:tensorflow:Graph was finalized.\n",
            "INFO:tensorflow:Restoring parameters from ./models/dnn_clf_1ep/model.ckpt-1580\n",
            "INFO:tensorflow:Running local_init_op.\n",
            "INFO:tensorflow:Done running local_init_op.\n",
            "('Train error, Val_error', 0.4601333333333333, '/', 0.5462)\n",
            "('Train_set_size:', 27000)\n",
            "INFO:tensorflow:Using config: {'_save_checkpoints_secs': None, '_keep_checkpoint_max': 5, '_task_type': None, '_cluster_spec': <tensorflow.python.training.server_lib.ClusterSpec object at 0x7fc6c0340090>, '_keep_checkpoint_every_n_hours': 10000, '_session_config': None, '_tf_random_seed': 26, '_device_fn': None, '_num_worker_replicas': 0, '_task_id': 0, '_log_step_count_steps': 100, '_evaluation_master': '', '_eval_distribute': None, '_num_ps_replicas': 0, '_train_distribute': None, '_is_chief': True, '_model_dir': './models/dnn_clf_1ep/', '_protocol': None, '_save_checkpoints_steps': 100, '_environment': 'local', '_master': '', '_tf_config': gpu_options {\n",
            "  per_process_gpu_memory_fraction: 1.0\n",
            "}\n",
            ", '_save_summary_steps': 100}\n",
            "INFO:tensorflow:Create CheckpointSaverHook.\n",
            "INFO:tensorflow:Graph was finalized.\n",
            "INFO:tensorflow:Restoring parameters from ./models/dnn_clf_1ep/model.ckpt-1580\n",
            "INFO:tensorflow:Running local_init_op.\n",
            "INFO:tensorflow:Done running local_init_op.\n",
            "INFO:tensorflow:Saving checkpoints for 1580 into ./models/dnn_clf_1ep/model.ckpt.\n",
            "INFO:tensorflow:loss = 1.4251583, step = 1580\n",
            "INFO:tensorflow:Saving checkpoints for 1680 into ./models/dnn_clf_1ep/model.ckpt.\n",
            "INFO:tensorflow:global_step/sec: 90.4252\n",
            "INFO:tensorflow:loss = 1.4297366, step = 1680 (1.110 sec)\n",
            "INFO:tensorflow:Saving checkpoints for 1780 into ./models/dnn_clf_1ep/model.ckpt.\n",
            "INFO:tensorflow:global_step/sec: 95.7135\n",
            "INFO:tensorflow:loss = 1.6350467, step = 1780 (1.042 sec)\n",
            "INFO:tensorflow:Saving checkpoints for 1880 into ./models/dnn_clf_1ep/model.ckpt.\n",
            "INFO:tensorflow:global_step/sec: 82.4359\n",
            "INFO:tensorflow:loss = 1.3410722, step = 1880 (1.217 sec)\n",
            "INFO:tensorflow:Saving checkpoints for 1980 into ./models/dnn_clf_1ep/model.ckpt.\n",
            "INFO:tensorflow:global_step/sec: 94.5727\n",
            "INFO:tensorflow:loss = 1.3388169, step = 1980 (1.054 sec)\n",
            "INFO:tensorflow:Saving checkpoints for 2080 into ./models/dnn_clf_1ep/model.ckpt.\n",
            "INFO:tensorflow:global_step/sec: 100.952\n",
            "INFO:tensorflow:loss = 1.4156309, step = 2080 (0.997 sec)\n",
            "INFO:tensorflow:Saving checkpoints for 2120 into ./models/dnn_clf_1ep/model.ckpt.\n",
            "INFO:tensorflow:Loss for final step: 1.3878686.\n",
            "INFO:tensorflow:Graph was finalized.\n",
            "INFO:tensorflow:Restoring parameters from ./models/dnn_clf_1ep/model.ckpt-2120\n",
            "INFO:tensorflow:Running local_init_op.\n",
            "INFO:tensorflow:Done running local_init_op.\n",
            "('dnn_1_clf training time', 7.137105)\n",
            "<type 'dict'>\n",
            "INFO:tensorflow:Graph was finalized.\n",
            "INFO:tensorflow:Restoring parameters from ./models/dnn_clf_1ep/model.ckpt-2120\n",
            "INFO:tensorflow:Running local_init_op.\n",
            "INFO:tensorflow:Done running local_init_op.\n",
            "('Train error, Val_error', 0.44318518518518524, '/', 0.5386)\n",
            "('Train_set_size:', 36000)\n",
            "INFO:tensorflow:Using config: {'_save_checkpoints_secs': None, '_keep_checkpoint_max': 5, '_task_type': None, '_cluster_spec': <tensorflow.python.training.server_lib.ClusterSpec object at 0x7fc6bbd75d50>, '_keep_checkpoint_every_n_hours': 10000, '_session_config': None, '_tf_random_seed': 26, '_device_fn': None, '_num_worker_replicas': 0, '_task_id': 0, '_log_step_count_steps': 100, '_evaluation_master': '', '_eval_distribute': None, '_num_ps_replicas': 0, '_train_distribute': None, '_is_chief': True, '_model_dir': './models/dnn_clf_1ep/', '_protocol': None, '_save_checkpoints_steps': 100, '_environment': 'local', '_master': '', '_tf_config': gpu_options {\n",
            "  per_process_gpu_memory_fraction: 1.0\n",
            "}\n",
            ", '_save_summary_steps': 100}\n",
            "INFO:tensorflow:Create CheckpointSaverHook.\n",
            "INFO:tensorflow:Graph was finalized.\n",
            "INFO:tensorflow:Restoring parameters from ./models/dnn_clf_1ep/model.ckpt-2120\n",
            "INFO:tensorflow:Running local_init_op.\n",
            "INFO:tensorflow:Done running local_init_op.\n",
            "INFO:tensorflow:Saving checkpoints for 2120 into ./models/dnn_clf_1ep/model.ckpt.\n",
            "INFO:tensorflow:loss = 1.449324, step = 2120\n",
            "INFO:tensorflow:Saving checkpoints for 2220 into ./models/dnn_clf_1ep/model.ckpt.\n",
            "INFO:tensorflow:global_step/sec: 91.7307\n",
            "INFO:tensorflow:loss = 1.5787905, step = 2220 (1.093 sec)\n",
            "INFO:tensorflow:Saving checkpoints for 2320 into ./models/dnn_clf_1ep/model.ckpt.\n",
            "INFO:tensorflow:global_step/sec: 93.7518\n",
            "INFO:tensorflow:loss = 1.5279071, step = 2320 (1.069 sec)\n",
            "INFO:tensorflow:Saving checkpoints for 2420 into ./models/dnn_clf_1ep/model.ckpt.\n",
            "INFO:tensorflow:global_step/sec: 95.1366\n",
            "INFO:tensorflow:loss = 1.2315465, step = 2420 (1.053 sec)\n",
            "INFO:tensorflow:Saving checkpoints for 2520 into ./models/dnn_clf_1ep/model.ckpt.\n",
            "INFO:tensorflow:global_step/sec: 94.951\n",
            "INFO:tensorflow:loss = 1.2553314, step = 2520 (1.051 sec)\n",
            "INFO:tensorflow:Saving checkpoints for 2620 into ./models/dnn_clf_1ep/model.ckpt.\n",
            "INFO:tensorflow:global_step/sec: 91.2655\n",
            "INFO:tensorflow:loss = 1.5494375, step = 2620 (1.094 sec)\n",
            "INFO:tensorflow:Saving checkpoints for 2720 into ./models/dnn_clf_1ep/model.ckpt.\n",
            "INFO:tensorflow:global_step/sec: 99.1024\n",
            "INFO:tensorflow:loss = 1.4044745, step = 2720 (1.012 sec)\n",
            "INFO:tensorflow:Saving checkpoints for 2820 into ./models/dnn_clf_1ep/model.ckpt.\n",
            "INFO:tensorflow:global_step/sec: 86.2005\n",
            "INFO:tensorflow:loss = 1.3729031, step = 2820 (1.159 sec)\n",
            "INFO:tensorflow:Saving checkpoints for 2840 into ./models/dnn_clf_1ep/model.ckpt.\n",
            "INFO:tensorflow:Loss for final step: 1.5619026.\n",
            "INFO:tensorflow:Graph was finalized.\n",
            "INFO:tensorflow:Restoring parameters from ./models/dnn_clf_1ep/model.ckpt-2840\n",
            "INFO:tensorflow:Running local_init_op.\n",
            "INFO:tensorflow:Done running local_init_op.\n",
            "('dnn_1_clf training time', 9.330664)\n",
            "<type 'dict'>\n",
            "INFO:tensorflow:Graph was finalized.\n",
            "INFO:tensorflow:Restoring parameters from ./models/dnn_clf_1ep/model.ckpt-2840\n",
            "INFO:tensorflow:Running local_init_op.\n",
            "INFO:tensorflow:Done running local_init_op.\n",
            "('Train error, Val_error', 0.4395555555555556, '/', 0.5238)\n",
            "('Train_set_size:', 40500)\n",
            "INFO:tensorflow:Using config: {'_save_checkpoints_secs': None, '_keep_checkpoint_max': 5, '_task_type': None, '_cluster_spec': <tensorflow.python.training.server_lib.ClusterSpec object at 0x7fc6b9ff9510>, '_keep_checkpoint_every_n_hours': 10000, '_session_config': None, '_tf_random_seed': 26, '_device_fn': None, '_num_worker_replicas': 0, '_task_id': 0, '_log_step_count_steps': 100, '_evaluation_master': '', '_eval_distribute': None, '_num_ps_replicas': 0, '_train_distribute': None, '_is_chief': True, '_model_dir': './models/dnn_clf_1ep/', '_protocol': None, '_save_checkpoints_steps': 100, '_environment': 'local', '_master': '', '_tf_config': gpu_options {\n",
            "  per_process_gpu_memory_fraction: 1.0\n",
            "}\n",
            ", '_save_summary_steps': 100}\n",
            "INFO:tensorflow:Create CheckpointSaverHook.\n",
            "INFO:tensorflow:Graph was finalized.\n",
            "INFO:tensorflow:Restoring parameters from ./models/dnn_clf_1ep/model.ckpt-2840\n",
            "INFO:tensorflow:Running local_init_op.\n",
            "INFO:tensorflow:Done running local_init_op.\n",
            "INFO:tensorflow:Saving checkpoints for 2840 into ./models/dnn_clf_1ep/model.ckpt.\n",
            "INFO:tensorflow:loss = 1.2405552, step = 2840\n",
            "INFO:tensorflow:Saving checkpoints for 2940 into ./models/dnn_clf_1ep/model.ckpt.\n",
            "INFO:tensorflow:global_step/sec: 96.0969\n",
            "INFO:tensorflow:loss = 1.3469629, step = 2940 (1.047 sec)\n",
            "INFO:tensorflow:Saving checkpoints for 3040 into ./models/dnn_clf_1ep/model.ckpt.\n",
            "INFO:tensorflow:global_step/sec: 84.0273\n",
            "INFO:tensorflow:loss = 1.622914, step = 3040 (1.187 sec)\n",
            "INFO:tensorflow:Saving checkpoints for 3140 into ./models/dnn_clf_1ep/model.ckpt.\n",
            "INFO:tensorflow:global_step/sec: 90.3238\n",
            "INFO:tensorflow:loss = 1.3248296, step = 3140 (1.107 sec)\n",
            "INFO:tensorflow:Saving checkpoints for 3240 into ./models/dnn_clf_1ep/model.ckpt.\n",
            "INFO:tensorflow:global_step/sec: 91.7554\n",
            "INFO:tensorflow:loss = 1.2718834, step = 3240 (1.089 sec)\n",
            "INFO:tensorflow:Saving checkpoints for 3340 into ./models/dnn_clf_1ep/model.ckpt.\n",
            "INFO:tensorflow:global_step/sec: 90.8338\n",
            "INFO:tensorflow:loss = 1.1845683, step = 3340 (1.101 sec)\n",
            "INFO:tensorflow:Saving checkpoints for 3440 into ./models/dnn_clf_1ep/model.ckpt.\n",
            "INFO:tensorflow:global_step/sec: 97.7488\n",
            "INFO:tensorflow:loss = 1.4267803, step = 3440 (1.029 sec)\n",
            "INFO:tensorflow:Saving checkpoints for 3540 into ./models/dnn_clf_1ep/model.ckpt.\n",
            "INFO:tensorflow:global_step/sec: 87.6567\n",
            "INFO:tensorflow:loss = 1.1073064, step = 3540 (1.135 sec)\n",
            "INFO:tensorflow:Saving checkpoints for 3640 into ./models/dnn_clf_1ep/model.ckpt.\n",
            "INFO:tensorflow:global_step/sec: 92.4999\n",
            "INFO:tensorflow:loss = 1.3861432, step = 3640 (1.086 sec)\n",
            "INFO:tensorflow:Saving checkpoints for 3650 into ./models/dnn_clf_1ep/model.ckpt.\n",
            "INFO:tensorflow:Loss for final step: 1.329406.\n",
            "INFO:tensorflow:Graph was finalized.\n",
            "INFO:tensorflow:Restoring parameters from ./models/dnn_clf_1ep/model.ckpt-3650\n",
            "INFO:tensorflow:Running local_init_op.\n",
            "INFO:tensorflow:Done running local_init_op.\n",
            "('dnn_1_clf training time', 10.462463)\n",
            "<type 'dict'>\n",
            "INFO:tensorflow:Graph was finalized.\n",
            "INFO:tensorflow:Restoring parameters from ./models/dnn_clf_1ep/model.ckpt-3650\n",
            "INFO:tensorflow:Running local_init_op.\n",
            "INFO:tensorflow:Done running local_init_op.\n",
            "('Train error, Val_error', 0.43133333333333335, '/', 0.5174000000000001)\n",
            "('Train_set_size:', 44955)\n",
            "INFO:tensorflow:Using config: {'_save_checkpoints_secs': None, '_keep_checkpoint_max': 5, '_task_type': None, '_cluster_spec': <tensorflow.python.training.server_lib.ClusterSpec object at 0x7fc6bbee2810>, '_keep_checkpoint_every_n_hours': 10000, '_session_config': None, '_tf_random_seed': 26, '_device_fn': None, '_num_worker_replicas': 0, '_task_id': 0, '_log_step_count_steps': 100, '_evaluation_master': '', '_eval_distribute': None, '_num_ps_replicas': 0, '_train_distribute': None, '_is_chief': True, '_model_dir': './models/dnn_clf_1ep/', '_protocol': None, '_save_checkpoints_steps': 100, '_environment': 'local', '_master': '', '_tf_config': gpu_options {\n",
            "  per_process_gpu_memory_fraction: 1.0\n",
            "}\n",
            ", '_save_summary_steps': 100}\n",
            "INFO:tensorflow:Create CheckpointSaverHook.\n",
            "INFO:tensorflow:Graph was finalized.\n",
            "INFO:tensorflow:Restoring parameters from ./models/dnn_clf_1ep/model.ckpt-3650\n",
            "INFO:tensorflow:Running local_init_op.\n",
            "INFO:tensorflow:Done running local_init_op.\n",
            "INFO:tensorflow:Saving checkpoints for 3650 into ./models/dnn_clf_1ep/model.ckpt.\n",
            "INFO:tensorflow:loss = 1.1686722, step = 3650\n",
            "INFO:tensorflow:Saving checkpoints for 3750 into ./models/dnn_clf_1ep/model.ckpt.\n",
            "INFO:tensorflow:global_step/sec: 85.0804\n",
            "INFO:tensorflow:loss = 1.1737959, step = 3750 (1.177 sec)\n",
            "INFO:tensorflow:Saving checkpoints for 3850 into ./models/dnn_clf_1ep/model.ckpt.\n",
            "INFO:tensorflow:global_step/sec: 93.3469\n",
            "INFO:tensorflow:loss = 1.366236, step = 3850 (1.071 sec)\n",
            "INFO:tensorflow:Saving checkpoints for 3950 into ./models/dnn_clf_1ep/model.ckpt.\n",
            "INFO:tensorflow:global_step/sec: 91.7041\n",
            "INFO:tensorflow:loss = 1.4401501, step = 3950 (1.094 sec)\n",
            "INFO:tensorflow:Saving checkpoints for 4050 into ./models/dnn_clf_1ep/model.ckpt.\n",
            "INFO:tensorflow:global_step/sec: 95.262\n",
            "INFO:tensorflow:loss = 1.3901038, step = 4050 (1.048 sec)\n",
            "INFO:tensorflow:Saving checkpoints for 4150 into ./models/dnn_clf_1ep/model.ckpt.\n",
            "INFO:tensorflow:global_step/sec: 86.0139\n",
            "INFO:tensorflow:loss = 1.4261779, step = 4150 (1.163 sec)\n",
            "INFO:tensorflow:Saving checkpoints for 4250 into ./models/dnn_clf_1ep/model.ckpt.\n",
            "INFO:tensorflow:global_step/sec: 89.2519\n",
            "INFO:tensorflow:loss = 1.3139111, step = 4250 (1.118 sec)\n",
            "INFO:tensorflow:Saving checkpoints for 4350 into ./models/dnn_clf_1ep/model.ckpt.\n",
            "INFO:tensorflow:global_step/sec: 93.2054\n",
            "INFO:tensorflow:loss = 1.2600354, step = 4350 (1.074 sec)\n",
            "INFO:tensorflow:Saving checkpoints for 4450 into ./models/dnn_clf_1ep/model.ckpt.\n",
            "INFO:tensorflow:global_step/sec: 90.7656\n",
            "INFO:tensorflow:loss = 1.4380023, step = 4450 (1.104 sec)\n",
            "INFO:tensorflow:Saving checkpoints for 4549 into ./models/dnn_clf_1ep/model.ckpt.\n",
            "INFO:tensorflow:Loss for final step: 1.1762348.\n",
            "INFO:tensorflow:Graph was finalized.\n",
            "INFO:tensorflow:Restoring parameters from ./models/dnn_clf_1ep/model.ckpt-4549\n",
            "INFO:tensorflow:Running local_init_op.\n",
            "INFO:tensorflow:Done running local_init_op.\n",
            "('dnn_1_clf training time', 10.841658)\n",
            "<type 'dict'>\n",
            "INFO:tensorflow:Graph was finalized.\n",
            "INFO:tensorflow:Restoring parameters from ./models/dnn_clf_1ep/model.ckpt-4549\n",
            "INFO:tensorflow:Running local_init_op.\n",
            "INFO:tensorflow:Done running local_init_op.\n",
            "('Train error, Val_error', 0.41599377154932715, '/', 0.5065999999999999)\n",
            "('Train_set_size:', 45000)\n",
            "INFO:tensorflow:Using config: {'_save_checkpoints_secs': None, '_keep_checkpoint_max': 5, '_task_type': None, '_cluster_spec': <tensorflow.python.training.server_lib.ClusterSpec object at 0x7fc6b9b04710>, '_keep_checkpoint_every_n_hours': 10000, '_session_config': None, '_tf_random_seed': 26, '_device_fn': None, '_num_worker_replicas': 0, '_task_id': 0, '_log_step_count_steps': 100, '_evaluation_master': '', '_eval_distribute': None, '_num_ps_replicas': 0, '_train_distribute': None, '_is_chief': True, '_model_dir': './models/dnn_clf_1ep/', '_protocol': None, '_save_checkpoints_steps': 100, '_environment': 'local', '_master': '', '_tf_config': gpu_options {\n",
            "  per_process_gpu_memory_fraction: 1.0\n",
            "}\n",
            ", '_save_summary_steps': 100}\n",
            "INFO:tensorflow:Create CheckpointSaverHook.\n",
            "INFO:tensorflow:Graph was finalized.\n",
            "INFO:tensorflow:Restoring parameters from ./models/dnn_clf_1ep/model.ckpt-4549\n",
            "INFO:tensorflow:Running local_init_op.\n",
            "INFO:tensorflow:Done running local_init_op.\n",
            "INFO:tensorflow:Saving checkpoints for 4549 into ./models/dnn_clf_1ep/model.ckpt.\n",
            "INFO:tensorflow:loss = 1.1355505, step = 4549\n",
            "INFO:tensorflow:Saving checkpoints for 4649 into ./models/dnn_clf_1ep/model.ckpt.\n",
            "INFO:tensorflow:global_step/sec: 94.5535\n",
            "INFO:tensorflow:loss = 1.6581943, step = 4649 (1.060 sec)\n",
            "INFO:tensorflow:Saving checkpoints for 4749 into ./models/dnn_clf_1ep/model.ckpt.\n",
            "INFO:tensorflow:global_step/sec: 89.1631\n",
            "INFO:tensorflow:loss = 1.3097355, step = 4749 (1.125 sec)\n",
            "INFO:tensorflow:Saving checkpoints for 4849 into ./models/dnn_clf_1ep/model.ckpt.\n",
            "INFO:tensorflow:global_step/sec: 92.9152\n",
            "INFO:tensorflow:loss = 1.2069331, step = 4849 (1.077 sec)\n",
            "INFO:tensorflow:Saving checkpoints for 4949 into ./models/dnn_clf_1ep/model.ckpt.\n",
            "INFO:tensorflow:global_step/sec: 93.2013\n",
            "INFO:tensorflow:loss = 1.4366297, step = 4949 (1.072 sec)\n",
            "INFO:tensorflow:Saving checkpoints for 5049 into ./models/dnn_clf_1ep/model.ckpt.\n",
            "INFO:tensorflow:global_step/sec: 91.9046\n",
            "INFO:tensorflow:loss = 1.1514858, step = 5049 (1.086 sec)\n",
            "INFO:tensorflow:Saving checkpoints for 5149 into ./models/dnn_clf_1ep/model.ckpt.\n",
            "INFO:tensorflow:global_step/sec: 94.1221\n",
            "INFO:tensorflow:loss = 1.1639915, step = 5149 (1.063 sec)\n",
            "INFO:tensorflow:Saving checkpoints for 5249 into ./models/dnn_clf_1ep/model.ckpt.\n",
            "INFO:tensorflow:global_step/sec: 89.8938\n",
            "INFO:tensorflow:loss = 1.0680796, step = 5249 (1.113 sec)\n",
            "INFO:tensorflow:Saving checkpoints for 5349 into ./models/dnn_clf_1ep/model.ckpt.\n",
            "INFO:tensorflow:global_step/sec: 91.32\n",
            "INFO:tensorflow:loss = 1.2613188, step = 5349 (1.097 sec)\n",
            "INFO:tensorflow:Saving checkpoints for 5449 into ./models/dnn_clf_1ep/model.ckpt.\n",
            "INFO:tensorflow:Loss for final step: 1.2208776.\n",
            "INFO:tensorflow:Graph was finalized.\n",
            "INFO:tensorflow:Restoring parameters from ./models/dnn_clf_1ep/model.ckpt-5449\n",
            "INFO:tensorflow:Running local_init_op.\n",
            "INFO:tensorflow:Done running local_init_op.\n",
            "('dnn_1_clf training time', 10.804611)\n",
            "<type 'dict'>\n",
            "INFO:tensorflow:Graph was finalized.\n",
            "INFO:tensorflow:Restoring parameters from ./models/dnn_clf_1ep/model.ckpt-5449\n",
            "INFO:tensorflow:Running local_init_op.\n",
            "INFO:tensorflow:Done running local_init_op.\n",
            "('Train error, Val_error', 0.39884444444444445, '/', 0.5005999999999999)\n",
            "('Train_size_list: ', [45, 225, 450, 675, 900, 1125, 1350, 1800, 2250, 2700, 4500, 9000, 13500, 18000, 22500, 27000, 36000, 40500, 44955, 45000])\n",
            "('Train_error_list: ', [0.6, 0.6844444444444444, 0.6111111111111112, 0.56, 0.5344444444444445, 0.4835555555555555, 0.4688888888888889, 0.4705555555555555, 0.46266666666666667, 0.44925925925925925, 0.48711111111111116, 0.5012222222222222, 0.48918518518518517, 0.47477777777777774, 0.4601333333333333, 0.44318518518518524, 0.4395555555555556, 0.43133333333333335, 0.41599377154932715, 0.39884444444444445])\n",
            "('Val_error_list: ', [0.8488, 0.8291999999999999, 0.7852, 0.747, 0.7188, 0.6988, 0.6794, 0.6586000000000001, 0.6436, 0.6402, 0.6115999999999999, 0.5888, 0.5778, 0.5576, 0.5462, 0.5386, 0.5238, 0.5174000000000001, 0.5065999999999999, 0.5005999999999999])\n",
            "('Train_time_list: ', [1.558785, 1.660703, 1.542093, 1.602687, 1.869657, 1.674526, 1.55662, 1.713476, 1.98459, 2.094456, 2.237637, 2.894557, 4.254566, 4.842997, 6.297323, 7.137105, 9.330664, 10.462463, 10.841658, 10.804611])\n",
            "('Val_time_list: ', [0.463924, 0.695713, 0.460066, 0.695166, 0.44591, 0.69161, 0.446585, 0.675456, 0.432574, 0.419385, 0.422129, 0.415088, 0.417777, 0.421606, 0.414856, 0.408244, 0.411505, 0.645775, 0.413711, 0.681195])\n"
          ],
          "name": "stdout"
        }
      ]
    },
    {
      "metadata": {
        "id": "DqkO60-b_ZUu",
        "colab_type": "code",
        "colab": {
          "base_uri": "https://localhost:8080/",
          "height": 527
        },
        "outputId": "76bc97a1-fd0d-4a5b-d93f-ad0a3031ce9f"
      },
      "cell_type": "code",
      "source": [
        "#Drawing learning curve for 1 epoch\n",
        "plt.figure(figsize = (10,8))\n",
        "plt.plot(Train_size_list_1ep, Train_error_list_1ep, 'go-',label = \"Train\")\n",
        "plt.plot(Train_size_list_1ep, Val_error_list_1ep, 'ro-',label = \"Validation\")\n",
        "plt.xlabel('Training Set Size (Sample numbers)',fontsize=16)\n",
        "plt.ylabel('Error rate',fontsize=16)\n",
        "plt.title('Learning Curve For 1 Epoch', fontsize=26)\n",
        "plt.legend(loc=\"upper right\", fontsize=10)\n",
        "plt.grid(True)\n",
        "plt.savefig('./LearningCurve_1ep.png')"
      ],
      "execution_count": 46,
      "outputs": [
        {
          "output_type": "display_data",
          "data": {
            "image/png": "[encoded data removed]",
            "text/plain": [
              "<matplotlib.figure.Figure at 0x7fc6bbeec550>"
            ]
          },
          "metadata": {
            "tags": []
          }
        }
      ]
    },
    {
      "metadata": {
        "id": "Zq2T-frqB_Hr",
        "colab_type": "code",
        "colab": {
          "base_uri": "https://localhost:8080/",
          "height": 522
        },
        "outputId": "00cdf048-ab5a-4f6a-ba78-e3ef7940bdd2"
      },
      "cell_type": "code",
      "source": [
        "#Drawing train/val time v.s. training set for 1 epoch\n",
        "\n",
        "plt.figure(figsize = (10,8))\n",
        "plt.plot(Train_size_list_1ep, Train_time_list_1ep, 'go-', label = \"Train\")\n",
        "plt.plot(Train_size_list_1ep, Val_time_list_1ep, 'ro-', label = \"Validation\")\n",
        "plt.xlabel('Training Set Size (Sample numbers)')\n",
        "plt.ylabel('Time(Seconds)')\n",
        "plt.title('Time Curve For 1 Epoch', fontsize=26)\n",
        "plt.legend(loc=\"upper left\", fontsize=10)\n",
        "plt.grid(True)\n",
        "plt.savefig('./TimeCurve_1ep.png')"
      ],
      "execution_count": 48,
      "outputs": [
        {
          "output_type": "display_data",
          "data": {
            "image/png": "[encoded data removed]",
            "text/plain": [
              "<matplotlib.figure.Figure at 0x7fc6bfa55bd0>"
            ]
          },
          "metadata": {
            "tags": []
          }
        }
      ]
    },
    {
      "metadata": {
        "id": "D43a8G1wDgOm",
        "colab_type": "code",
        "colab": {
          "base_uri": "https://localhost:8080/",
          "height": 68
        },
        "outputId": "5b42c340-2d48-49c3-ed1d-6d80ce19a155"
      },
      "cell_type": "code",
      "source": [
        "# Saving data locally\n",
        "import os\n",
        "print( os.getcwd() )\n",
        "print( os.listdir(os.getcwd()) )\n",
        "print( os.listdir('models') )"
      ],
      "execution_count": 53,
      "outputs": [
        {
          "output_type": "stream",
          "text": [
            "/content\n",
            "['sample_data', '.config', 'TimeCurve_1ep.png', 'models', 'LearningCurve_1ep.png']\n",
            "['dnn_clf_1ep']\n"
          ],
          "name": "stdout"
        }
      ]
    },
    {
      "metadata": {
        "id": "T0satGclEKEn",
        "colab_type": "code",
        "colab": {}
      },
      "cell_type": "code",
      "source": [
        "#downloading relevent files\n",
        "from google.colab import files\n",
        "#files.download( \"./models/dnn_clf_1ep\" )\n",
        "#files.download( \"./TimeCurve_1ep.png\" )\n",
        "#files.download( \"./LearningCurve_1ep.png\" )"
      ],
      "execution_count": 0,
      "outputs": []
    }
  ]
}